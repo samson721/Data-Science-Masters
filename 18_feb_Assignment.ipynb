{
 "cells": [
  {
   "cell_type": "code",
   "execution_count": 1,
   "id": "5c3206e2",
   "metadata": {},
   "outputs": [],
   "source": [
    "# Q1-> APIs are an accessible way to extract and share data within\n",
    "# and across organizations. APIs are all around us. \n",
    "# Every time you use a rideshare app, send a mobile payment, or \n",
    "# change the thermostat temperature from your phone, you're using an API."
   ]
  },
  {
   "cell_type": "code",
   "execution_count": 2,
   "id": "8915869b",
   "metadata": {},
   "outputs": [],
   "source": [
    "# Q2 ->\n",
    "# Advantages\n",
    "#  No More Drowning in Details.\n",
    "#  Simplifying Unnecessary Complexities for Speed.\n",
    "#  Lighter Load for DevOps.\n",
    "#  Greater Alignment.\n",
    "    \n",
    "# disadvantage\n",
    "#  More Generation = Loss of Control."
   ]
  },
  {
   "cell_type": "code",
   "execution_count": 3,
   "id": "932b2f63",
   "metadata": {},
   "outputs": [],
   "source": [
    "# Q3 ->\n",
    "# Web API is an extensible framework for building HTTP based\n",
    "# services that can be accessed in different applications on different platforms\n",
    "\n",
    "# In api it is created using TCP,SMTP and HTTP \n",
    "# but in web api is created using HTTP\n"
   ]
  },
  {
   "cell_type": "code",
   "execution_count": 4,
   "id": "ebd77490",
   "metadata": {},
   "outputs": [],
   "source": [
    "# Q4 ->\n",
    "# Rest API => Representational state transfer its is a archtecture to create api \n",
    "# it has simplicity scalblity and flexiblity\n",
    "# it uses HTTP and its func like GET POST DELETE\n",
    "\n",
    "# Soap => Simple object access prtocol its ia also a archt \n",
    "# it uses TCP and SMPT also it use Xml\n",
    "\n",
    "#soap is hard to scale"
   ]
  },
  {
   "cell_type": "code",
   "execution_count": null,
   "id": "f53b83af",
   "metadata": {},
   "outputs": [],
   "source": [
    "# Q5->\n",
    "# Rest API => Representational state transfer its is a archtecture to create api \n",
    "# it has simplicity scalblity and flexiblity\n",
    "# it uses HTTP and its func like GET POST DELETE\n",
    "\n",
    "# Soap => Simple object access prtocol its ia also a archt \n",
    "# it uses TCP and SMPT also it use Xml\n",
    "\n",
    "#soap is hard to scale"
   ]
  }
 ],
 "metadata": {
  "kernelspec": {
   "display_name": "Python 3",
   "language": "python",
   "name": "python3"
  },
  "language_info": {
   "codemirror_mode": {
    "name": "ipython",
    "version": 3
   },
   "file_extension": ".py",
   "mimetype": "text/x-python",
   "name": "python",
   "nbconvert_exporter": "python",
   "pygments_lexer": "ipython3",
   "version": "3.8.8"
  }
 },
 "nbformat": 4,
 "nbformat_minor": 5
}
