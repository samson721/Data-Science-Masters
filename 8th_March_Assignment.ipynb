{
 "cells": [
  {
   "cell_type": "markdown",
   "id": "36e1db5a",
   "metadata": {},
   "source": [
    "Q1->\n",
    "Probability density function (PDF) is a statistical expression that defines a probability distribution (the likelihood of an outcome) for a discrete random variable as opposed to a continuous random variable."
   ]
  },
  {
   "cell_type": "markdown",
   "id": "896c3316",
   "metadata": {},
   "source": [
    "Q2->\n",
    "\n",
    "Types of probabilty distribution\n",
    "\n",
    "1.Normal/Gausian Distrtbution\n",
    "\n",
    "2.Uniform Distrtbution\n",
    "\n",
    "3.Log Normal Distrtbution\n",
    "\n",
    "4.Poision Distrtbution\n",
    "\n",
    "5.PowerLow Distrtbution\n",
    "\n",
    "6.Binomial Distrtbution\n"
   ]
  },
  {
   "cell_type": "code",
   "execution_count": 2,
   "id": "5131ebef",
   "metadata": {},
   "outputs": [
    {
     "name": "stdout",
     "output_type": "stream",
     "text": [
      "0.24197072451914337\n"
     ]
    }
   ],
   "source": [
    "# Q3->\n",
    "import math\n",
    "\n",
    "def normal_pdf(x, m, std):\n",
    "    coeff = 1 / (std * math.sqrt(2 * math.pi))\n",
    "    exponent = -(x - m)**2 / (2 * std**2)\n",
    "    return coeff * math.exp(exponent)\n",
    "\n",
    "mean=0\n",
    "std = 1\n",
    "x = 1\n",
    "\n",
    "pdf = normal_pdf(x, mean, std)\n",
    "print(pdf)  \n"
   ]
  },
  {
   "cell_type": "markdown",
   "id": "5bab1170",
   "metadata": {},
   "source": [
    " Q4>\n",
    " \n",
    "The properties of the binomial distribution are: There are two possible outcomes: true or false, success or failure,0 or 1\n",
    "\n",
    "e.g.\n",
    "\n",
    "1 Toss a coin\n",
    "\n",
    "\n",
    "2.result of exam"
   ]
  },
  {
   "cell_type": "code",
   "execution_count": 9,
   "id": "66007b2f",
   "metadata": {},
   "outputs": [
    {
     "data": {
      "image/png": "[encoded data removed]",
      "text/plain": [
       "<Figure size 432x288 with 1 Axes>"
      ]
     },
     "metadata": {
      "needs_background": "light"
     },
     "output_type": "display_data"
    }
   ],
   "source": [
    "# Q5->\n",
    "import numpy as np\n",
    "import matplotlib.pyplot as plt\n",
    "\n",
    "n = 1000\n",
    "pr = 0.4\n",
    "samples = np.random.binomial(n,pr,size = 1000)\n",
    "\n",
    "plt.hist(samples)\n",
    "plt.xlabel(\"No. of success\")\n",
    "plt.ylabel(\"frequency\")\n",
    "plt.title(\"Histogram for random binomial samples\")\n",
    "plt.show()"
   ]
  },
  {
   "cell_type": "code",
   "execution_count": 12,
   "id": "8b1224f6",
   "metadata": {},
   "outputs": [
    {
     "name": "stdout",
     "output_type": "stream",
     "text": [
      "0.2650259152973617\n"
     ]
    }
   ],
   "source": [
    "# Q6 ->\n",
    "import math\n",
    "\n",
    "\n",
    "def poisson_cdf(lamda, k):\n",
    "    cdf = 0\n",
    "    for i in range(k + 1):\n",
    "        cdf += math.exp(-lamda) * (lamda ** i) / math.factorial(i)\n",
    "    return cdf\n",
    "\n",
    "l = 5\n",
    "k = 3\n",
    "print(poisson_cdf(l,k))"
   ]
  },
  {
   "cell_type": "markdown",
   "id": "9db04a79",
   "metadata": {},
   "source": [
    "Q7->\n",
    "\n",
    "Binomial distribution describes the distribution of binary data from a finite sample. Thus it gives the probability of getting r events out of n trials. Poisson distribution describes the distribution of binary data from an infinite sample. Thus it gives the probability of getting r events in a population."
   ]
  },
  {
   "cell_type": "code",
   "execution_count": 15,
   "id": "3fc53cee",
   "metadata": {},
   "outputs": [
    {
     "name": "stdout",
     "output_type": "stream",
     "text": [
      "2.967\n",
      "2.777911\n"
     ]
    }
   ],
   "source": [
    "# Q8->\n",
    "\n",
    "samples1 = np.random.poisson(lam=3.0,size = 1000)\n",
    "sample_mean = np.mean(samples1)\n",
    "sample_var = np.var(samples1)\n",
    "print(sample_mean)\n",
    "print(sample_var)\n"
   ]
  },
  {
   "cell_type": "markdown",
   "id": "11ba18bf",
   "metadata": {},
   "source": [
    "Q9->\n",
    "\n",
    "For the Binomial distribution, the variance is a function of both n and p, and it increases as p gets closer to 0.5.\n",
    "\n",
    "For the Poisson distribution, the variance is a function of λ alone, and it increases as λ increases.\n",
    "\n",
    "For both distributions, the mean and variance are related, but the nature of the relationship is different"
   ]
  },
  {
   "cell_type": "markdown",
   "id": "713884c7",
   "metadata": {},
   "source": [
    "Q10->\n",
    "\n",
    "In a normal distribution, the least frequent data points are located in the tails of the distribution, which are the regions far away from the mean position."
   ]
  }
 ],
 "metadata": {
  "kernelspec": {
   "display_name": "Python 3",
   "language": "python",
   "name": "python3"
  },
  "language_info": {
   "codemirror_mode": {
    "name": "ipython",
    "version": 3
   },
   "file_extension": ".py",
   "mimetype": "text/x-python",
   "name": "python",
   "nbconvert_exporter": "python",
   "pygments_lexer": "ipython3",
   "version": "3.8.8"
  }
 },
 "nbformat": 4,
 "nbformat_minor": 5
}
