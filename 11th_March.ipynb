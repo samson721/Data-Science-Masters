{
 "cells": [
  {
   "cell_type": "markdown",
   "id": "590f30a5",
   "metadata": {},
   "source": [
    "Q1->\n",
    "\n",
    "Both t-tests and z-tests are used in statistical hypothesis testing to compare sample means to population means or to compare the means of two different groups. The main difference between a t-test and a z-test is the type of data being analyzed and the assumptions made about the population.\n",
    "\n",
    "A t-test is used when the sample size is small (usually less than 30) and the population standard deviation is unknown. In a t-test, we estimate the standard deviation of the population using the sample standard deviation. The t-test uses a t-distribution to calculate the p-value and test the null hypothesis.\n",
    "\n",
    "On the other hand, a z-test is used when the sample size is large (usually greater than 30) and the population standard deviation is known or can be estimated accurately. In a z-test, we assume that the population standard deviation is known and use a normal distribution to calculate the p-value and test the null hypothesis."
   ]
  },
  {
   "cell_type": "markdown",
   "id": "0c1b2b8d",
   "metadata": {},
   "source": [
    "Q2->\n",
    "\n",
    "A one-tailed test (also known as a directional test) is a statistical test where the alternative hypothesis specifies the direction of the expected difference between the sample statistic and the population parameter. For example, a one-tailed test could be used to test the hypothesis that a new drug is more effective than an existing drug. The null hypothesis would be that there is no difference in effectiveness between the two drugs, while the alternative hypothesis would be that the new drug is more effective. In this case, the one-tailed test is used to determine if the sample statistic is significantly greater than the population parameter.\n",
    "\n",
    "A two-tailed test (also known as a non-directional test) is a statistical test where the alternative hypothesis specifies that there is a difference between the sample statistic and the population parameter, but does not specify the direction of the difference. For example, a two-tailed test could be used to test the hypothesis that the average height of students in a school is different from the average height of students in the general population. In this case, the two-tailed test is used to determine if the sample statistic is significantly different from the population parameter."
   ]
  },
  {
   "cell_type": "markdown",
   "id": "9000c8f3",
   "metadata": {},
   "source": [
    "Q3->\n",
    "\n",
    "Type 1 error occurs when we reject the Null hypothesis but in reality it is true\n",
    "\n",
    "Type 2 error occurs when we retain the Null hypothesis but in reality it is false\n",
    "\n",
    "A company is testing a new marketing strategy, and they want to see if it will increase their sales. They set the significance level (α) to 0.05 and conduct a study. If they fail to reject the null hypothesis that the marketing strategy has no effect when it actually does, they will make a Type 2 error."
   ]
  },
  {
   "cell_type": "markdown",
   "id": "0cc745b2",
   "metadata": {},
   "source": [
    "Q4->\n",
    "\n",
    "Bayes's theorem states that the probability of an event A given that event B has occurred is equal to the probability of event B given that event A has occurred multiplied by the probability of event A, divided by the probability of event B. Mathematically, this can be written as:\n",
    "\n",
    "P(A|B) = P(B|A) * P(A) / P(B)\n",
    "\n",
    "if we have to calculate the probability of taking a blue ball from the second bag out of three different bags of balls, where each bag contains three different colour balls viz. red, blue, black.\n"
   ]
  },
  {
   "cell_type": "markdown",
   "id": "7d5b1c99",
   "metadata": {},
   "source": [
    "Q5->\n",
    "\n",
    "We construct Confidence Interval to help esitmate what the actual unknown Populayion\n",
    "mean is.\n",
    "\n",
    "Confidence interval = Point estimate +- Margin of error\n",
    "\n",
    "margin of error  = Z(alpha/2)*std/sqrt(sample size)\n",
    "\n",
    "example:\n",
    "\n",
    "Suppose a researcher wants to estimate the average height of students in a university. They take a random sample of 100 students and find that the sample mean height is 68 inches with a standard deviation of 3 inches. They want to calculate a 95% confidence interval for the true mean height of all students in the university.\n",
    "\n",
    "sample size= 100                     CI = 95%\n",
    "\n",
    "Point esitmate = 68                  alpha = 0.05\n",
    "\n",
    "std = 3\n",
    "\n",
    "Z(alpha/2) = Z(0.025) = 1.96\n",
    "\n",
    "Margin of error = 1.96 * 3/10 = 0.588\n",
    "\n",
    "CI = 68 +- 0.588\n",
    "\n",
    "The 95% confidence interval for the true mean height of students in the university is (67.412, 68.588).\n",
    "\n",
    "This means that we can be 95% confident that the true mean height of all students in the university lies between 67.412 inches and 68.588 inches.\n",
    "\n"
   ]
  },
  {
   "cell_type": "markdown",
   "id": "4eae1539",
   "metadata": {},
   "source": [
    "Q6->\n",
    "\n",
    "Suppose a certain disease affects 1% of the population. A medical test is available for the disease, and the test correctly identifies the presence of the disease in 95% of cases where the person actually has the disease, and correctly identifies the absence of the disease in 90% of cases where the person does not have the disease. If a randomly selected person tests positive for the disease, what is the probability that they actually have the disease?\n",
    "\n",
    "Solution:\n",
    "Let A be the event that a person has the disease, and B be the event that a person tests positive for the disease. We want to find P(A|B), the probability that a person has the disease given that they tested positive. By Bayes' Theorem, we have:\n",
    "\n",
    "P(A|B) = P(B|A) * P(A) / P(B)\n",
    "\n",
    "where P(B|A) is the probability of testing positive given that a person has the disease, P(A) is the prior probability of a person having the disease, and P(B) is the probability of testing positive, which can be calculated using the Law of Total Probability:\n",
    "\n",
    "P(B) = P(B|A) * P(A) + P(B|~A) * P(~A)\n",
    "\n",
    "where ~A is the complement of A, i.e., the event that a person does not have the disease. Substituting in the given values, we get:\n",
    "\n",
    "P(A|B) = 0.95 * 0.01 / (0.95 * 0.01 + 0.1 * 0.99) ≈ 0.087\n",
    "\n",
    "So the probability that a person actually has the disease given that they tested positive is about 8.7%. Even though the test is quite accurate (95% sensitivity), the relatively low prevalence of the disease means that a positive test result is still more likely to be a false positive than a true positive."
   ]
  },
  {
   "cell_type": "markdown",
   "id": "37624e5b",
   "metadata": {},
   "source": [
    "Q7->\n",
    "\n",
    "alpha = 0.05  sample mean = 50 and sigms  = 5\n",
    "\n",
    "CI = point estimate +- margin of error\n",
    "\n",
    "Z(0.025) = 1.96\n",
    "\n",
    "margin of eroor = 1.96 * 5/sqrt(50)\n",
    "\n",
    "CI = 50 +- 0.98\n",
    "\n",
    "So the 95% confidence interval for this sample is (49.02, 50.98). This means that we are 95% confident that the true population mean falls within this range of values."
   ]
  },
  {
   "cell_type": "markdown",
   "id": "d7bc8b2d",
   "metadata": {},
   "source": [
    "Q8->\n",
    "\n",
    "The margin of error in a confidence interval is the amount of error that is expected due to sampling variability. It is the distance between the sample estimate (such as the sample mean) and the true population parameter (such as the population mean) at a certain level of confidence. In other words, it is the range of values around the sample estimate within which the true population parameter is likely to fall. A smaller margin of error indicates a more precise estimate of the population parameter.\n",
    "\n",
    "Margin of error  = Z(alpha/2) * std/sqrt(n)\n",
    "\n",
    "Suppose a company wants to conduct a survey to estimate the percentage of their customers who are satisfied with their product. They randomly select 50 customers and find that 70% of them are satisfied with the product. If they increase the sample size to 500, the margin of error will decrease, resulting in a more precise estimate of the percentage of satisfied customers. This is because a larger sample size reduces the effect of random sampling error, which in turn leads to a smaller margin of error."
   ]
  },
  {
   "cell_type": "markdown",
   "id": "76999099",
   "metadata": {},
   "source": [
    "Q9->\n",
    "\n",
    "z = (x - μ) / σ\n",
    "\n",
    "x = 75   μ = 70    σ(std) = 5\n",
    "\n",
    "z = (75 - 70) / 5 = 1\n",
    "\n",
    "The z-score for this data point is 1.\n",
    "\n",
    "z(1) = .84134\n",
    "\n",
    "84.13%"
   ]
  },
  {
   "cell_type": "markdown",
   "id": "6ee1ec54",
   "metadata": {},
   "source": [
    "Q10->\n",
    "\n",
    "Null hypothesis (H0): The weight loss drug is not significantly effective; the mean weight loss is equal to or less than 0 pounds.\n",
    "\n",
    "Alternative hypothesis (Ha): The weight loss drug is significantly effective; the mean weight loss is greater than 0 pounds.\n",
    "\n",
    "t = (6 - 0) / (2.5 / sqrt(50))\n",
    "t = 15.05\n",
    "\n",
    "Next, we need to find the critical value from the t-distribution table. For a one-tailed test with a significance level of 0.05 and 49 degrees of freedom (sample size minus 1), the critical value is 1.676.\n",
    "\n",
    "Since our t-statistic of 15.05 is greater than the critical value of 1.676, we reject the null hypothesis and conclude that the weight loss drug is significantly effective at a 95% confidence level."
   ]
  },
  {
   "cell_type": "markdown",
   "id": "def222c2",
   "metadata": {},
   "source": [
    "Q11->\n",
    "\n",
    "Confidence Interval = Sample Proportion ± (Z-score)(Standard Error)\n",
    "\n",
    "where the Z-score is obtained from a standard normal distribution based on the confidence level, and the standard error is calculated as:\n",
    "\n",
    "Standard Error = sqrt((Sample Proportion x (1 - Sample Proportion)) / Sample Size)\n",
    "\n",
    "\n",
    "Sample Proportion (p) = 0.65\n",
    "Sample Size (n) = 500\n",
    "Confidence Level = 95%\n",
    "\n",
    "First, we need to find the Z-score associated with a 95% confidence level. From a standard normal distribution, we find that the Z-score for a 95% confidence level is approximately 1.96.\n",
    "\n",
    "Next, we can calculate the standard error:\n",
    "\n",
    "Standard Error = sqrt[(0.65 x 0.35) / 500] = 0.0245\n",
    "\n",
    "Finally, we can calculate the confidence interval:\n",
    "\n",
    "Confidence Interval = 0.65 ± (1.96)(0.0245) = (0.602, 0.698)\n",
    "\n",
    "Interpretation: We are 95% confident that the true proportion of people satisfied with their job lies between 0.602 and 0.698.\n"
   ]
  },
  {
   "cell_type": "markdown",
   "id": "e24078cb",
   "metadata": {},
   "source": [
    "Q12->\n",
    "\n",
    "Null hypothesis H0: μA = μB (there is no significant difference in student performance between the two teaching methods)\n",
    "\n",
    "Alternate hypothesis H1: μA ≠ μB (there is a significant difference in student performance between the two teaching methods)\n",
    "\n",
    "Here, we have two independent samples with unequal variances. So, we will use the Welch's t-test.\n",
    "\n",
    "The formula for Welch's t-test is:\n",
    "\n",
    "t = (x̄A - x̄B) / √(s^2A/nA + s^2B/nB)\n",
    "\n",
    "Where, x̄A and x̄B are the sample means, s^2A and s^2B are the sample variances, and nA and nB are the sample sizes.\n",
    "\n",
    "Substituting the values in the formula, we get:\n",
    "\n",
    "t = (85 - 82) / √(6^2/100 + 5^2/100)\n",
    "t = 1.67\n",
    "\n",
    "The degrees of freedom for the Welch's t-test is given by the formula:\n",
    "\n",
    "df = [(s^2A/nA + s^2B/nB)^2] / [((s^2A/nA)^2)/(nA-1) + ((s^2B/nB)^2)/(nB-1)]\n",
    "\n",
    "Substituting the values in the formula, we get:\n",
    "\n",
    "df = [(6^2/100 + 5^2/100)^2] / [((6^2/100)^2)/99 + ((5^2/100)^2)/49]\n",
    "df = 94.3\n",
    "\n",
    "Using a t-distribution table with 94 degrees of freedom and a significance level of 0.01 (two-tailed), the critical t-value is ±2.62.\n",
    "\n",
    "Since the calculated t-value (1.67) is less than the critical t-value (±2.62), we fail to reject the null hypothesis.\n",
    "\n",
    "Therefore, we can conclude that there is no significant difference in student performance between the two teaching methods at a significance level of 0.01.\n"
   ]
  },
  {
   "cell_type": "markdown",
   "id": "6e6e11e6",
   "metadata": {},
   "source": [
    "Q13->\n",
    "\n",
    "pop mean = 60, std = 8, sample_mean(x) = 65,sample size = 50 alpha = 0.1\n",
    "\n",
    "CI = x +- margin of error\n",
    "\n",
    "margin of error = Z(0.05) * std/sqrt(size) \n",
    "\n",
    "moe = 1.65 * 8/sqrt(50) = 1.867\n",
    "\n",
    "Confidence interval = 65 ± 1.867\n",
    "\n",
    "Confidence interval = (63.133, 66.867)\n",
    "\n"
   ]
  },
  {
   "cell_type": "markdown",
   "id": "cf973bad",
   "metadata": {},
   "source": [
    "Q14->\n",
    "\n",
    "Null hypothesis (H0): The caffeine has no significant effect on reaction time.\n",
    "Alternative hypothesis (Ha): The caffeine has a significant effect on reaction time.\n",
    "\n",
    "We will use a two-tailed t-test with a significance level of 0.1 (90% confidence level).\n",
    "\n",
    "Calculate the t-statistic\n",
    "\n",
    "t = (x̄ - μ) / (s / sqrt(n))\n",
    "where x̄ = sample mean, μ = population mean (assumed to be 0 under the null hypothesis), s = sample standard deviation, n = sample size\n",
    "\n",
    "t = (0.25 - 0) / (0.05 / sqrt(30))\n",
    "t = 5.477\n",
    "\n",
    "the degrees of freedom\n",
    "\n",
    "df = n - 1 = 29\n",
    "\n",
    "the critical t-value\n",
    "\n",
    "We want to find the t-value that corresponds to a 0.05 significance level (0.025 for each tail) and 29 degrees of freedom. Using a t-distribution table, we find the critical t-value to be ±1.699.\n",
    "\n",
    "Compare the t-statistic with the critical t-value\n",
    "\n",
    "Since the absolute value of the calculated t-value (5.477) is greater than the critical t-value (1.699), we reject the null hypothesis. This means that there is a significant effect of caffeine on reaction time.\n",
    "\n",
    "At a 90% confidence level, we can conclude that caffeine has a significant effect on reaction time."
   ]
  },
  {
   "cell_type": "code",
   "execution_count": null,
   "id": "ad0eb081",
   "metadata": {},
   "outputs": [],
   "source": []
  }
 ],
 "metadata": {
  "kernelspec": {
   "display_name": "Python 3",
   "language": "python",
   "name": "python3"
  },
  "language_info": {
   "codemirror_mode": {
    "name": "ipython",
    "version": 3
   },
   "file_extension": ".py",
   "mimetype": "text/x-python",
   "name": "python",
   "nbconvert_exporter": "python",
   "pygments_lexer": "ipython3",
   "version": "3.8.8"
  }
 },
 "nbformat": 4,
 "nbformat_minor": 5
}
