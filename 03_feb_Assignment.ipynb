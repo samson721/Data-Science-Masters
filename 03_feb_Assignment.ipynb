{
 "cells": [
  {
   "cell_type": "code",
   "execution_count": 1,
   "id": "14771dd8",
   "metadata": {},
   "outputs": [],
   "source": [
    "# Q1->\n",
    "# def keyword is used to create a function\n",
    "\n",
    "def odd_n():\n",
    "    l1 = []\n",
    "    for i in range(1,25):\n",
    "        if(i%2 !=0):\n",
    "            l1.append(i)\n",
    "\n",
    "    return l1"
   ]
  },
  {
   "cell_type": "code",
   "execution_count": 2,
   "id": "c720dfdb",
   "metadata": {},
   "outputs": [
    {
     "data": {
      "text/plain": [
       "[1, 3, 5, 7, 9, 11, 13, 15, 17, 19, 21, 23]"
      ]
     },
     "execution_count": 2,
     "metadata": {},
     "output_type": "execute_result"
    }
   ],
   "source": [
    "odd_n()"
   ]
  },
  {
   "cell_type": "code",
   "execution_count": 3,
   "id": "5578e784",
   "metadata": {},
   "outputs": [],
   "source": [
    "# Q2 ->\n",
    "# We use *args and **kwargs in functions when we dont know the Number of inputs or Number of Agrument to pass \n",
    "# in the function\n",
    "\n",
    "# for *agrs\n",
    "def add(*Num):\n",
    "    sum = 0\n",
    "    for i in Num:\n",
    "        sum = sum + i\n",
    "    return sum\n"
   ]
  },
  {
   "cell_type": "code",
   "execution_count": 4,
   "id": "b2af20c0",
   "metadata": {},
   "outputs": [
    {
     "data": {
      "text/plain": [
       "7"
      ]
     },
     "execution_count": 4,
     "metadata": {},
     "output_type": "execute_result"
    }
   ],
   "source": [
    "add(2,5)"
   ]
  },
  {
   "cell_type": "code",
   "execution_count": 5,
   "id": "18658cc3",
   "metadata": {},
   "outputs": [
    {
     "data": {
      "text/plain": [
       "300"
      ]
     },
     "execution_count": 5,
     "metadata": {},
     "output_type": "execute_result"
    }
   ],
   "source": [
    "add(1,5,47,48,122,12,65)"
   ]
  },
  {
   "cell_type": "code",
   "execution_count": 6,
   "id": "fb599384",
   "metadata": {},
   "outputs": [],
   "source": [
    "# for **kwagrs\n",
    "def Name(**data):\n",
    "    print(\"\\nData type of argument:\",type(data))\n",
    "\n",
    "    for key, value in data.items():\n",
    "        print(\"{} is {}\".format(key,value))\n",
    "\n"
   ]
  },
  {
   "cell_type": "code",
   "execution_count": 10,
   "id": "3f0b4475",
   "metadata": {},
   "outputs": [
    {
     "name": "stdout",
     "output_type": "stream",
     "text": [
      "\n",
      "Data type of argument: <class 'dict'>\n",
      "Firstname is Steve\n",
      "Lastname is Rogers\n",
      "Age is 94\n",
      "Phone is 1345648748\n"
     ]
    }
   ],
   "source": [
    "Name(Firstname=\"Steve\", Lastname=\"Rogers\", Age=94, Phone=1345648748)"
   ]
  },
  {
   "cell_type": "code",
   "execution_count": 11,
   "id": "1fed2fe8",
   "metadata": {},
   "outputs": [
    {
     "name": "stdout",
     "output_type": "stream",
     "text": [
      "\n",
      "Data type of argument: <class 'dict'>\n",
      "Firstname is Black\n",
      "Lastname is Panther\n",
      "Email is Tchalla13th@vibranium.com\n",
      "Country is Wakanda\n",
      "Age is 25\n",
      "Phone is 9876543210\n"
     ]
    }
   ],
   "source": [
    "Name(Firstname=\"Black\", Lastname=\"Panther\", Email=\"Tchalla13th@vibranium.com\", Country=\"Wakanda\", Age=25, Phone=9876543210)"
   ]
  },
  {
   "cell_type": "code",
   "execution_count": 2,
   "id": "e99d8397",
   "metadata": {},
   "outputs": [
    {
     "name": "stdout",
     "output_type": "stream",
     "text": [
      "2 4 6 8 10 "
     ]
    }
   ],
   "source": [
    "# # Q3->\n",
    "# An iterator in pyhton is an object which conatins Number of values\n",
    "# by using iterator we can traverse through all the values \n",
    "\n",
    "# Python iterator object must implement two special methods, __iter__() and __next__() \n",
    "List = [2, 4, 6, 8, 10, 12, 14, 16,18, 20]\n",
    "iterator = iter(List)\n",
    "cnt = 0\n",
    "for element in iterator:\n",
    "    if(cnt==5):\n",
    "        break\n",
    "    print(element,end=\" \")\n",
    "    cnt = cnt+1\n"
   ]
  },
  {
   "cell_type": "code",
   "execution_count": 6,
   "id": "1fabe787",
   "metadata": {},
   "outputs": [
    {
     "name": "stdout",
     "output_type": "stream",
     "text": [
      "1 3 5 7 9 "
     ]
    }
   ],
   "source": [
    "# Q4->\n",
    "# Generator functions allow you to declare a function that behaves likes an iterator,\n",
    "# yield keyword is used to create a generator function. A type of function that is \n",
    "# memory efficient and can be used like an iterator object.\n",
    "\n",
    "def que_4():  \n",
    "    for i in range(10):  \n",
    "        if(i%2!=0):  \n",
    "             yield i  \n",
    "  \n",
    "\n",
    "\n",
    "\n",
    "for i in que_4():  \n",
    "    print(i,end=\" \") "
   ]
  },
  {
   "cell_type": "code",
   "execution_count": 7,
   "id": "ecc09928",
   "metadata": {},
   "outputs": [],
   "source": [
    "# Q5->\n",
    "\n",
    "def isPrime(n):\n",
    "     \n",
    "    # Corner case\n",
    "    if n <= 1 :\n",
    "        return False\n",
    " \n",
    "    # check from 2 to n-1\n",
    "    for i in range(2, n):\n",
    "        if n % i == 0:\n",
    "            return False\n",
    " \n",
    "    return True"
   ]
  },
  {
   "cell_type": "code",
   "execution_count": 10,
   "id": "2f76eb2e",
   "metadata": {},
   "outputs": [
    {
     "name": "stdout",
     "output_type": "stream",
     "text": [
      "2 3 5 7 11 13 17 19 23 29 31 37 41 43 47 53 59 61 67 71 73 "
     ]
    }
   ],
   "source": [
    "count =0\n",
    "for i in range(1,1000):\n",
    "    if isPrime(i)==True:\n",
    "        print(i,end=' ')\n",
    "        count = count+1\n",
    "    if count>+20:\n",
    "        break"
   ]
  },
  {
   "cell_type": "code",
   "execution_count": null,
   "id": "deacc838",
   "metadata": {},
   "outputs": [],
   "source": []
  }
 ],
 "metadata": {
  "kernelspec": {
   "display_name": "Python 3",
   "language": "python",
   "name": "python3"
  },
  "language_info": {
   "codemirror_mode": {
    "name": "ipython",
    "version": 3
   },
   "file_extension": ".py",
   "mimetype": "text/x-python",
   "name": "python",
   "nbconvert_exporter": "python",
   "pygments_lexer": "ipython3",
   "version": "3.8.8"
  }
 },
 "nbformat": 4,
 "nbformat_minor": 5
}
