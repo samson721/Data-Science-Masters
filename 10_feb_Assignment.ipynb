{
 "cells": [
  {
   "cell_type": "code",
   "execution_count": 2,
   "id": "9737c934",
   "metadata": {},
   "outputs": [],
   "source": [
    "# Q1->\n",
    "# open() function is used to open a file\n",
    "# differnt modes to open a file\n",
    "# 1. r opens file in read mode\n",
    "# 2. w opens file in write mode\n",
    "# 3. a opens file qppend mode\n",
    "# 4. r+ opens file in  both read and write mode.\n",
    "# 5. a+ opens a file in both read and write mode.\n",
    "# 6. w+ opens a file in both read and write mode.\n",
    "\n",
    "f = open(\"test1.txt\",'w')"
   ]
  },
  {
   "cell_type": "code",
   "execution_count": 3,
   "id": "5ae3ef86",
   "metadata": {},
   "outputs": [
    {
     "data": {
      "text/plain": [
       "23"
      ]
     },
     "execution_count": 3,
     "metadata": {},
     "output_type": "execute_result"
    }
   ],
   "source": [
    "f.write(\"This is my test1 file. \")\n"
   ]
  },
  {
   "cell_type": "code",
   "execution_count": 4,
   "id": "9a2f0ff8",
   "metadata": {},
   "outputs": [],
   "source": [
    "f.close()"
   ]
  },
  {
   "cell_type": "code",
   "execution_count": 5,
   "id": "2f74c697",
   "metadata": {},
   "outputs": [],
   "source": [
    "data = open(\"test1.txt\",'r')"
   ]
  },
  {
   "cell_type": "code",
   "execution_count": 6,
   "id": "f780cc6d",
   "metadata": {},
   "outputs": [],
   "source": [
    "f1 = open(\"test1.txt\",'a')"
   ]
  },
  {
   "cell_type": "code",
   "execution_count": 7,
   "id": "705e2bfc",
   "metadata": {},
   "outputs": [],
   "source": [
    "f1.close()"
   ]
  },
  {
   "cell_type": "code",
   "execution_count": 8,
   "id": "86c85d3d",
   "metadata": {},
   "outputs": [],
   "source": [
    "# Q2->\n",
    "# close() function is used to close an open file, if we dont close the file then \n",
    "# we cant see the changes in the file\n"
   ]
  },
  {
   "cell_type": "code",
   "execution_count": 9,
   "id": "4973b1c7",
   "metadata": {},
   "outputs": [],
   "source": [
    "# Q3 ->\n",
    "f = open(\"text.txt\",'w')"
   ]
  },
  {
   "cell_type": "code",
   "execution_count": 10,
   "id": "2e507f62",
   "metadata": {},
   "outputs": [
    {
     "data": {
      "text/plain": [
       "33"
      ]
     },
     "execution_count": 10,
     "metadata": {},
     "output_type": "execute_result"
    }
   ],
   "source": [
    "f.write(\"I want to become a Data Scientist\")"
   ]
  },
  {
   "cell_type": "code",
   "execution_count": 11,
   "id": "22660997",
   "metadata": {},
   "outputs": [],
   "source": [
    "f.close()"
   ]
  },
  {
   "cell_type": "code",
   "execution_count": 12,
   "id": "249dc9f4",
   "metadata": {},
   "outputs": [],
   "source": [
    "data = open(\"text.txt\",'r')"
   ]
  },
  {
   "cell_type": "code",
   "execution_count": 13,
   "id": "5e6d6633",
   "metadata": {},
   "outputs": [
    {
     "data": {
      "text/plain": [
       "'I want to become a Data Scientist'"
      ]
     },
     "execution_count": 13,
     "metadata": {},
     "output_type": "execute_result"
    }
   ],
   "source": [
    "data.read()"
   ]
  },
  {
   "cell_type": "code",
   "execution_count": 14,
   "id": "f09d6390",
   "metadata": {},
   "outputs": [],
   "source": [
    "# Q4->\n",
    "# raed() is used the read the whole file.\n",
    "# readline() method will return a line from the file \n",
    "#readlines() method will return all the lines in a file \n",
    "#in the format of a list where each element is a line in the file\n",
    "f = open(\"life.txt\",'w')"
   ]
  },
  {
   "cell_type": "code",
   "execution_count": 15,
   "id": "186713b6",
   "metadata": {},
   "outputs": [
    {
     "data": {
      "text/plain": [
       "1064"
      ]
     },
     "execution_count": 15,
     "metadata": {},
     "output_type": "execute_result"
    }
   ],
   "source": [
    "f.write(\"This world is trapped in the well of suffering. What is this suffering due to?  This suffering stems from ignorance of the Self. All suffering in this world is because of ignorance. This ignorance leads to attachment and abhorrence and suffering is experienced as a consequence. Only True Knowledge & Enlightenment Science can cure this suffering. There is no other remedy. True Knowledge & Enlightenment Science insulates you from suffering. Today, there is an excess of worldly science, it has become ‘above normal’; It needs to regain normality. People will only find happiness if this happens. The discoveries, that are being made, are above normal and yet we cannot find what we are looking for. What does this indicate? It shows that we are lost. Whenever anything occurs in excess, it leads to its exhaustion.There is more to life than just living. There has got to be more to life than just living. In life, there should be a higher purpose, and that is to obtain the real answer to, ‘Who am I?’ This is the unanswered question of infinite, previous lives.\")"
   ]
  },
  {
   "cell_type": "code",
   "execution_count": 16,
   "id": "70506b61",
   "metadata": {},
   "outputs": [],
   "source": [
    "f.close()"
   ]
  },
  {
   "cell_type": "code",
   "execution_count": 23,
   "id": "89bd60b4",
   "metadata": {},
   "outputs": [],
   "source": [
    "data1 = open(\"life.txt\",'r')"
   ]
  },
  {
   "cell_type": "code",
   "execution_count": 18,
   "id": "8fe37bbb",
   "metadata": {},
   "outputs": [
    {
     "data": {
      "text/plain": [
       "'This world is trapped in the well of suffering. What is this suffering due to?  This suffering stems from ignorance of the Self. All suffering in this world is because of ignorance. This ignorance leads to attachment and abhorrence and suffering is experienced as a consequence. Only True Knowledge & Enlightenment Science can cure this suffering. There is no other remedy. True Knowledge & Enlightenment Science insulates you from suffering. Today, there is an excess of worldly science, it has become ‘above normal’; It needs to regain normality. People will only find happiness if this happens. The discoveries, that are being made, are above normal and yet we cannot find what we are looking for. What does this indicate? It shows that we are lost. Whenever anything occurs in excess, it leads to its exhaustion.There is more to life than just living. There has got to be more to life than just living. In life, there should be a higher purpose, and that is to obtain the real answer to, ‘Who am I?’ This is the unanswered question of infinite, previous lives.'"
      ]
     },
     "execution_count": 18,
     "metadata": {},
     "output_type": "execute_result"
    }
   ],
   "source": [
    "data1.read()"
   ]
  },
  {
   "cell_type": "code",
   "execution_count": 24,
   "id": "e02b8c75",
   "metadata": {},
   "outputs": [
    {
     "data": {
      "text/plain": [
       "'This world i'"
      ]
     },
     "execution_count": 24,
     "metadata": {},
     "output_type": "execute_result"
    }
   ],
   "source": [
    "data1.readline(12)"
   ]
  },
  {
   "cell_type": "code",
   "execution_count": 25,
   "id": "47d9d0f8",
   "metadata": {},
   "outputs": [
    {
     "data": {
      "text/plain": [
       "['s trapped in the well of suffering. What is this suffering due to?  This suffering stems from ignorance of the Self. All suffering in this world is because of ignorance. This ignorance leads to attachment and abhorrence and suffering is experienced as a consequence. Only True Knowledge & Enlightenment Science can cure this suffering. There is no other remedy. True Knowledge & Enlightenment Science insulates you from suffering. Today, there is an excess of worldly science, it has become ‘above normal’; It needs to regain normality. People will only find happiness if this happens. The discoveries, that are being made, are above normal and yet we cannot find what we are looking for. What does this indicate? It shows that we are lost. Whenever anything occurs in excess, it leads to its exhaustion.There is more to life than just living. There has got to be more to life than just living. In life, there should be a higher purpose, and that is to obtain the real answer to, ‘Who am I?’ This is the unanswered question of infinite, previous lives.']"
      ]
     },
     "execution_count": 25,
     "metadata": {},
     "output_type": "execute_result"
    }
   ],
   "source": [
    "data1.readlines()"
   ]
  },
  {
   "cell_type": "code",
   "execution_count": 26,
   "id": "fd23dd49",
   "metadata": {},
   "outputs": [],
   "source": [
    "# Q5->\n",
    "# The with statement works with the open() function to open a file. Unlike open() \n",
    "# where you have to close the file with the close() method, the with statement closes \n",
    "# the file for you without you telling it to. This is because the with statement \n",
    "# calls 2 built-in methods behind the scene – __enter()__ and __exit()__ ."
   ]
  },
  {
   "cell_type": "code",
   "execution_count": 1,
   "id": "529eb47f",
   "metadata": {},
   "outputs": [
    {
     "name": "stdout",
     "output_type": "stream",
     "text": [
      "Enter Your Fav Movie: Avengers\n",
      "Enter Your Fav Movie: The Dark Knight\n",
      "Enter Your Fav Movie: 3 idiots\n",
      "Enter Your Fav Movie: Your Name\n"
     ]
    },
    {
     "data": {
      "text/plain": [
       "<function TextIOWrapper.close()>"
      ]
     },
     "execution_count": 1,
     "metadata": {},
     "output_type": "execute_result"
    }
   ],
   "source": [
    "# Q6->\n",
    "# The write() function will write the content in the file without adding any extra characters.\n",
    "# f.write(\"I want to become a Data Scientist\")\n",
    "\n",
    "# writelines() function writes the content of a list to a file.\n",
    "\n",
    "f1 = open(\"doc.txt\",'w')\n",
    "li = []\n",
    "\n",
    "for i in range(4):\n",
    "    name = input(\"Enter Your Fav Movie: \")\n",
    "    li.append(name + '\\n')\n",
    "    \n",
    "f1.writelines(li)\n",
    "f1.close"
   ]
  },
  {
   "cell_type": "code",
   "execution_count": null,
   "id": "aaf10ec1",
   "metadata": {},
   "outputs": [],
   "source": []
  }
 ],
 "metadata": {
  "kernelspec": {
   "display_name": "Python 3",
   "language": "python",
   "name": "python3"
  },
  "language_info": {
   "codemirror_mode": {
    "name": "ipython",
    "version": 3
   },
   "file_extension": ".py",
   "mimetype": "text/x-python",
   "name": "python",
   "nbconvert_exporter": "python",
   "pygments_lexer": "ipython3",
   "version": "3.8.8"
  }
 },
 "nbformat": 4,
 "nbformat_minor": 5
}
