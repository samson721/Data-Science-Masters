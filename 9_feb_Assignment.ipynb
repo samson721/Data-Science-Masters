{
 "cells": [
  {
   "cell_type": "code",
   "execution_count": 1,
   "id": "f9eac773",
   "metadata": {},
   "outputs": [],
   "source": [
    "# Q1->\n",
    "class vehicle:\n",
    "    def __init__(self,name_of_vehicle, max_speed, average_of_vehicle):\n",
    "        self.name_of_vehicle = name_of_vehicle\n",
    "        self.max_speed = max_speed\n",
    "        self.average_of_vehicle = average_of_vehicle\n",
    "        \n",
    "    def get_info(self):\n",
    "        return self.name_of_vehicle"
   ]
  },
  {
   "cell_type": "code",
   "execution_count": 2,
   "id": "02f66c90",
   "metadata": {},
   "outputs": [],
   "source": [
    "oj1_vehicle = vehicle('Car',120,50)"
   ]
  },
  {
   "cell_type": "code",
   "execution_count": 3,
   "id": "7fbae537",
   "metadata": {},
   "outputs": [
    {
     "data": {
      "text/plain": [
       "'Car'"
      ]
     },
     "execution_count": 3,
     "metadata": {},
     "output_type": "execute_result"
    }
   ],
   "source": [
    "oj1_vehicle.get_info()"
   ]
  },
  {
   "cell_type": "code",
   "execution_count": 4,
   "id": "cd48397d",
   "metadata": {},
   "outputs": [],
   "source": [
    "# Q2->\n",
    "class car(vehicle):\n",
    "    def seating_capacity(self,capacity):\n",
    "        self.capacity = capacity\n",
    "        print(self.name_of_vehicle, self.capacity)"
   ]
  },
  {
   "cell_type": "code",
   "execution_count": 5,
   "id": "883f4a91",
   "metadata": {},
   "outputs": [
    {
     "name": "stdout",
     "output_type": "stream",
     "text": [
      "Hyndai 5\n"
     ]
    }
   ],
   "source": [
    "obj1_car = car(\"Hyndai\",200,60)\n",
    "\n",
    "obj1_car.seating_capacity(5)"
   ]
  },
  {
   "cell_type": "code",
   "execution_count": 9,
   "id": "ceeefcff",
   "metadata": {},
   "outputs": [],
   "source": [
    "# Q3->\n",
    "# Multiple inheritance is a feature in which an object or class can inherit features from\n",
    "# more than one parent class\n",
    "\n",
    "class camera:\n",
    "    def work(self):\n",
    "        print(\"my funtion is to click pics\")\n",
    "        \n",
    "        \n",
    "class calculator:\n",
    "    def add_three(self,a,b,c):\n",
    "        return a+b+c\n",
    "    \n",
    "class phone(camera,calculator):\n",
    "    pass\n",
    "\n"
   ]
  },
  {
   "cell_type": "code",
   "execution_count": 10,
   "id": "ef1c9181",
   "metadata": {},
   "outputs": [],
   "source": [
    "ph1 = phone()"
   ]
  },
  {
   "cell_type": "code",
   "execution_count": 13,
   "id": "23a6c4fa",
   "metadata": {},
   "outputs": [
    {
     "data": {
      "text/plain": [
       "1226"
      ]
     },
     "execution_count": 13,
     "metadata": {},
     "output_type": "execute_result"
    }
   ],
   "source": [
    "ph1.add_three(516,51,659)"
   ]
  },
  {
   "cell_type": "code",
   "execution_count": 14,
   "id": "a8d2818d",
   "metadata": {},
   "outputs": [
    {
     "name": "stdout",
     "output_type": "stream",
     "text": [
      "my funtion is to click pics\n"
     ]
    }
   ],
   "source": [
    "ph1.work()"
   ]
  },
  {
   "cell_type": "code",
   "execution_count": 19,
   "id": "db646cdb",
   "metadata": {},
   "outputs": [],
   "source": [
    "# Q4 ->\n",
    "# Getter and setters are decorater class function in which the getter is used to acces any class variable\n",
    "#(Private also) and setter is used to mutate or change the value of var\n",
    "\n",
    "class marks:\n",
    "    def __init__(self,marks):\n",
    "        self.__marks = marks\n",
    "        \n",
    "    def get_marks(self):\n",
    "        return self.__marks\n",
    "        \n",
    "    def set_marks(self,new_marks):\n",
    "        self.__marks = new_marks\n",
    "        "
   ]
  },
  {
   "cell_type": "code",
   "execution_count": 20,
   "id": "c11a8191",
   "metadata": {},
   "outputs": [],
   "source": [
    "sam = marks(89)"
   ]
  },
  {
   "cell_type": "code",
   "execution_count": 22,
   "id": "af6555dd",
   "metadata": {},
   "outputs": [
    {
     "data": {
      "text/plain": [
       "89"
      ]
     },
     "execution_count": 22,
     "metadata": {},
     "output_type": "execute_result"
    }
   ],
   "source": [
    "sam.get_marks()"
   ]
  },
  {
   "cell_type": "code",
   "execution_count": 23,
   "id": "575fd0b8",
   "metadata": {},
   "outputs": [],
   "source": [
    "sam.set_marks(91)"
   ]
  },
  {
   "cell_type": "code",
   "execution_count": 24,
   "id": "8533b615",
   "metadata": {},
   "outputs": [
    {
     "data": {
      "text/plain": [
       "91"
      ]
     },
     "execution_count": 24,
     "metadata": {},
     "output_type": "execute_result"
    }
   ],
   "source": [
    "sam.get_marks()"
   ]
  },
  {
   "cell_type": "code",
   "execution_count": 25,
   "id": "a2e928eb",
   "metadata": {},
   "outputs": [],
   "source": [
    "# Q5->\n",
    "# Method overriding is feature of oops where the child class has same function or method \n",
    "# as of parent class\n",
    "\n",
    "class parent():\n",
    "    def __init__(self):\n",
    "        self.person = \"I am Parent\"\n",
    "        \n",
    "    def revel(self):\n",
    "        print(self.person)\n",
    "        \n",
    "\n",
    "class child(parent):\n",
    "    def __init__(self):\n",
    "        self.person = \"I am Child\"\n",
    "        \n",
    "    def revel(self):\n",
    "        print(self.person)"
   ]
  },
  {
   "cell_type": "code",
   "execution_count": 26,
   "id": "843b21a1",
   "metadata": {},
   "outputs": [
    {
     "name": "stdout",
     "output_type": "stream",
     "text": [
      "I am Parent\n",
      "I am Child\n"
     ]
    }
   ],
   "source": [
    "ob1 = parent();\n",
    "ob2 = child();\n",
    "\n",
    "ob1.revel()\n",
    "ob2.revel()"
   ]
  },
  {
   "cell_type": "code",
   "execution_count": null,
   "id": "fe9b88d1",
   "metadata": {},
   "outputs": [],
   "source": []
  }
 ],
 "metadata": {
  "kernelspec": {
   "display_name": "Python 3",
   "language": "python",
   "name": "python3"
  },
  "language_info": {
   "codemirror_mode": {
    "name": "ipython",
    "version": 3
   },
   "file_extension": ".py",
   "mimetype": "text/x-python",
   "name": "python",
   "nbconvert_exporter": "python",
   "pygments_lexer": "ipython3",
   "version": "3.8.8"
  }
 },
 "nbformat": 4,
 "nbformat_minor": 5
}
