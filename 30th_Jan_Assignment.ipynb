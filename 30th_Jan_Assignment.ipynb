{
 "cells": [
  {
   "cell_type": "code",
   "execution_count": 1,
   "id": "1bd6c07c",
   "metadata": {},
   "outputs": [
    {
     "name": "stdout",
     "output_type": "stream",
     "text": [
      "Enter your percentage 85\n",
      "Your Grade is 'B' \n"
     ]
    }
   ],
   "source": [
    "# Q1 ->\n",
    "per = int(input(\"Enter your percentage \"))\n",
    "\n",
    "if(per > 90):\n",
    "    print(\"Your Grade is 'A' \")\n",
    "elif(per >= 80 and per <= 90):\n",
    "    print(\"Your Grade is 'B' \")\n",
    "elif(per >= 60 and per <= 80):\n",
    "    print(\"Your Grade is 'C' \")\n",
    "else:\n",
    "    print(\"Your Grade is 'D' \")"
   ]
  },
  {
   "cell_type": "code",
   "execution_count": 2,
   "id": "d9c3c30d",
   "metadata": {},
   "outputs": [
    {
     "name": "stdout",
     "output_type": "stream",
     "text": [
      "Enter the cost price of bike 120000\n",
      "Your Road tax will be 15% i.e 18000.0rs\n"
     ]
    }
   ],
   "source": [
    "#Q2 ->\n",
    "cost_pr = float(input(\"Enter the cost price of bike \"))\n",
    "\n",
    "if(cost_pr > 100000):\n",
    "    pt = cost_pr*.15\n",
    "    print(f\"Your Road tax will be 15% i.e {pt}rs\")\n",
    "elif(cost_pr > 50000 and cost_pr <= 100000):\n",
    "    pt = cost_pr*.1\n",
    "    print(f\"Your Road tax will be 10% i.e {pt}rs\")\n",
    "else:\n",
    "    pt = cost_pr*.05\n",
    "    print(f\"Your Road tax will be 5% i.e {pt}rs\")"
   ]
  },
  {
   "cell_type": "code",
   "execution_count": 3,
   "id": "ec37a78b",
   "metadata": {},
   "outputs": [
    {
     "name": "stdout",
     "output_type": "stream",
     "text": [
      "Enter your city Agra\n",
      "Monument : Taj Mahal\n"
     ]
    }
   ],
   "source": [
    "#Q3->\n",
    "li = [\"Delhi\",\"Agra\",\"Jaipur\"]\n",
    "city = input(\"Enter your city \")\n",
    "if(city.capitalize() in li):\n",
    "    if(city.capitalize() == \"Delhi\"):\n",
    "        print(\"Monument : Red Fort\")\n",
    "    elif(city.capitalize() == \"Agra\"):\n",
    "        print(\"Monument : Taj Mahal\")\n",
    "    elif(city.capitalize() == \"Jaipur\"):\n",
    "        print(\"Monument : Jal Mahal\")\n",
    "else:\n",
    "    print(\"Sorry Google your city Monument\")"
   ]
  },
  {
   "cell_type": "code",
   "execution_count": 4,
   "id": "2c7c293c",
   "metadata": {},
   "outputs": [
    {
     "name": "stdout",
     "output_type": "stream",
     "text": [
      "Enter Number 56\n",
      "2\n"
     ]
    }
   ],
   "source": [
    "# Q4->\n",
    "n = int(input(\"Enter Number \"))\n",
    "count = 0\n",
    "while(n > 10):\n",
    "    n = n/3\n",
    "    count = count+1\n",
    "\n",
    "print(count)"
   ]
  },
  {
   "cell_type": "code",
   "execution_count": 5,
   "id": "e967b37e",
   "metadata": {},
   "outputs": [
    {
     "name": "stdout",
     "output_type": "stream",
     "text": [
      "Enter Number 84\n",
      "84 83 82 81 80 79 78 77 76 75 74 73 72 71 70 69 68 67 66 65 64 63 62 61 60 59 58 57 56 55 54 53 52 51 50 49 48 47 46 45 44 43 42 41 40 39 38 37 36 35 34 33 32 31 30 29 28 27 26 25 24 23 22 21 20 19 18 17 16 15 14 13 12 11 10 9 8 7 6 5 4 3 2 1 \n",
      "\n",
      "3570\n"
     ]
    }
   ],
   "source": [
    "#Q5->\n",
    "# the while loop can execute a set of statements as long as a condition is true.\n",
    "# we use while loop when we don't know when to end statement\n",
    "# Example \n",
    "\n",
    "num = int(input(\"Enter Number \"))\n",
    "sum_y = 0\n",
    "while(num>0):\n",
    "    sum_y += num \n",
    "    print(num ,end=\" \")\n",
    "    num = num-1\n",
    "print(\"\\n\")\n",
    "print(sum_y)"
   ]
  },
  {
   "cell_type": "code",
   "execution_count": 12,
   "id": "d9064f69",
   "metadata": {},
   "outputs": [
    {
     "name": "stdout",
     "output_type": "stream",
     "text": [
      "Enter Number 6\n",
      "* \n",
      "\n",
      "* * \n",
      "\n",
      "* * * \n",
      "\n",
      "* * * * \n",
      "\n",
      "* * * * * \n",
      "\n",
      "* * * * * * \n",
      "\n"
     ]
    }
   ],
   "source": [
    "# Q6-> \n",
    "# pattern 1\n",
    "n= int(input(\"Enter Number \"))\n",
    "i=1\n",
    "while(i<=n):\n",
    "    j=1\n",
    "    while(j<=i):\n",
    "        print(\"*\",end=\" \")\n",
    "        j = j+1\n",
    "    print(\"\\n\")\n",
    "    i=i+1\n",
    "    \n",
    "\n",
    "        "
   ]
  },
  {
   "cell_type": "code",
   "execution_count": 17,
   "id": "ae7958d5",
   "metadata": {},
   "outputs": [
    {
     "name": "stdout",
     "output_type": "stream",
     "text": [
      "Enter Number5\n",
      "1 \n",
      "\n",
      "1 2 \n",
      "\n",
      "1 2 3 \n",
      "\n",
      "1 2 3 4 \n",
      "\n",
      "1 2 3 4 5 \n",
      "\n"
     ]
    }
   ],
   "source": [
    "#pattern 2\n",
    "num = int(input(\"Enter Number \"))\n",
    "\n",
    "i=1\n",
    "\n",
    "while(i<=num):\n",
    "    j=1\n",
    "    while(j<=i):\n",
    "        print(j,end=\" \")\n",
    "        j += 1\n",
    "    i+=1\n",
    "    print(\"\\n\")\n"
   ]
  },
  {
   "cell_type": "code",
   "execution_count": 23,
   "id": "0dbd3a44",
   "metadata": {},
   "outputs": [
    {
     "name": "stdout",
     "output_type": "stream",
     "text": [
      "Enter Number 5\n",
      "1 \n",
      "\n",
      "1 2 \n",
      "\n",
      "1 2 3 \n",
      "\n",
      "1 2 3 4 \n",
      "\n",
      "1 2 3 4 5 \n",
      "\n",
      "1 2 3 4 \n",
      "\n",
      "1 2 3 \n",
      "\n",
      "1 2 \n",
      "\n",
      "1 \n",
      "\n",
      "\n",
      "\n",
      "\n",
      "\n"
     ]
    }
   ],
   "source": [
    "#pattern 3\n",
    "num = int(input(\"Enter Number \"))\n",
    "\n",
    "i=1\n",
    "\n",
    "while(i<=num):\n",
    "    j=1\n",
    "    while(j<=i):\n",
    "        print(j,end=\" \")\n",
    "        j += 1\n",
    "    i+=1\n",
    "    print(\"\\n\")\n",
    "    \n",
    "i = num\n",
    "while(i>=0):\n",
    "    j=1\n",
    "    while(j<i):\n",
    "        print(j,end=\" \")\n",
    "        j +=1\n",
    "    i-=1\n",
    "    print(\"\\n\")\n",
    "        "
   ]
  },
  {
   "cell_type": "code",
   "execution_count": 26,
   "id": "851488a2",
   "metadata": {},
   "outputs": [
    {
     "name": "stdout",
     "output_type": "stream",
     "text": [
      "10 9 8 7 6 5 4 3 2 1 "
     ]
    }
   ],
   "source": [
    "# Q7 Q8 ->\n",
    "i= 10\n",
    "while(i>0):\n",
    "    print(i,end=\" \")\n",
    "    i-=1\n"
   ]
  },
  {
   "cell_type": "code",
   "execution_count": null,
   "id": "7ed0f0ee",
   "metadata": {},
   "outputs": [],
   "source": []
  }
 ],
 "metadata": {
  "kernelspec": {
   "display_name": "Python 3",
   "language": "python",
   "name": "python3"
  },
  "language_info": {
   "codemirror_mode": {
    "name": "ipython",
    "version": 3
   },
   "file_extension": ".py",
   "mimetype": "text/x-python",
   "name": "python",
   "nbconvert_exporter": "python",
   "pygments_lexer": "ipython3",
   "version": "3.8.8"
  }
 },
 "nbformat": 4,
 "nbformat_minor": 5
}
