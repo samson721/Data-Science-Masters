{
 "cells": [
  {
   "cell_type": "markdown",
   "id": "f941c0d9",
   "metadata": {},
   "source": [
    "Q1->\n",
    "\n",
    "AI - Artificail inteligence are the smart application that can perform its own task\n",
    "without any human interaction.\n",
    "Examples of AI are Apple Siri, Google Assistant, Tesla self-driving cars.\n",
    "\n",
    "ML - Machine learning is a subset of AI which gives us Statstical tools to learn , Analyze ,\n",
    "visualize and develop predictive models from data\n",
    "Examples :-Recommendation System\n",
    "\n",
    "DL - Deep learning is a subset of machine learning, which is essentially a neural network with three or more layers. These neural networks attempt to simulate the behavior of the human brain—albeit far from matching its ability—allowing it to “learn” from large amounts of data. While a neural network with a single layer can still make approximate predictions, additional hidden layers can help to optimize and refine for accuracy.\n",
    "examples:- Facial recognition"
   ]
  },
  {
   "cell_type": "markdown",
   "id": "2ae9903b",
   "metadata": {},
   "source": [
    "Q2->\n",
    "\n",
    "Supervised Learning is a subcategory of machine learning and artificial intelligence. As the name suggest supervised mean it needs Human supervision. It is defined by its use of labeled datasets to train algorithms that to classify data or predict outcomes accurately.\n",
    "Classification And Regression are the subsets of SML based on if you want to predict category (Classification) or to predict Quantity (Regression)\n",
    "\n",
    "Examples:-\n",
    "spam filters, fraud detection systems, recommendation engines, and image recognition systems."
   ]
  },
  {
   "cell_type": "markdown",
   "id": "648d273b",
   "metadata": {},
   "source": [
    "Q3->\n",
    "\n",
    "Unsupervised learning, also known as unsupervised machine learning, uses machine learning algorithms to analyze and cluster unlabeled datasets. These algorithms discover hidden patterns or data groupings without the need for human intervention.\n",
    "\n",
    "Examples:-Suppose the unsupervised learning algorithm is given an input dataset containing images of different types of cats and dogs. The algorithm is never trained upon the given dataset, which means it does not have any idea about the features of the dataset."
   ]
  },
  {
   "cell_type": "markdown",
   "id": "f8a429ef",
   "metadata": {},
   "source": [
    "Q4->\n",
    "\n",
    "Machine Learning is a sub-category of AI, and Deep Learning is a sub-category of ML, meaning they are both forms of AI. Artificial intelligence is the broad idea that machines can intelligently execute tasks by mimicking human behaviours and thought processes.\n",
    "\n",
    "Artificial Intelligence is the concept of creating smart intelligent machines. Machine Learning is a subset of artificial intelligence that helps you build AI-driven applications. Deep Learning is a subset of machine learning that uses vast volumes of data and complex algorithms to train a model."
   ]
  },
  {
   "cell_type": "markdown",
   "id": "1d044a01",
   "metadata": {},
   "source": [
    "Q5->\n",
    "\n",
    "The main difference between supervised and unsupervised learning: Labeled data. The main distinction between the two approaches is the use of labeled datasets. To put it simply, supervised learning uses labeled input and output data, while an unsupervised learning algorithm does not.\n",
    "\n",
    "In Semi supervised learning it has gist of both supervised and unsupervised learning"
   ]
  },
  {
   "cell_type": "markdown",
   "id": "8a0c7425",
   "metadata": {},
   "source": [
    "Q6->\n",
    "\n",
    "Train dataset :- it is the dataset used train a particular predictive model \n",
    "    \n",
    "Test Dataset :- it is data set used to test the trained dataset and test the models accuracy\n",
    "\n",
    "validation split : Used to Increase the Accuracy of mode;"
   ]
  },
  {
   "cell_type": "markdown",
   "id": "167bcbc3",
   "metadata": {},
   "source": [
    "Q7->\n",
    "\n",
    "Anomaly detection techniques of unsupervised nature assume that normal data points occur considerably more frequently than anomalous data points. This assumption is used to classify data points that occur less frequently as anomalies. Unsupervised techniques assign each data point a score instead of a label."
   ]
  },
  {
   "cell_type": "markdown",
   "id": "3b521816",
   "metadata": {},
   "source": [
    "Q8->\n",
    "\n",
    "The most commonly used Supervised Learning algorithms are decision tree, logistic regression, linear regression, support vector machine. \n",
    "\n",
    "The most commonly used Unsupervised Learning algorithms are k-means clustering, hierarchical clustering, and apriori algorithm"
   ]
  },
  {
   "cell_type": "code",
   "execution_count": null,
   "id": "fd5efb34",
   "metadata": {},
   "outputs": [],
   "source": []
  }
 ],
 "metadata": {
  "kernelspec": {
   "display_name": "Python 3",
   "language": "python",
   "name": "python3"
  },
  "language_info": {
   "codemirror_mode": {
    "name": "ipython",
    "version": 3
   },
   "file_extension": ".py",
   "mimetype": "text/x-python",
   "name": "python",
   "nbconvert_exporter": "python",
   "pygments_lexer": "ipython3",
   "version": "3.8.8"
  }
 },
 "nbformat": 4,
 "nbformat_minor": 5
}
