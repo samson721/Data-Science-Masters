{
 "cells": [
  {
   "cell_type": "code",
   "execution_count": 1,
   "id": "2a573c51",
   "metadata": {},
   "outputs": [],
   "source": [
    "import pandas as pd"
   ]
  },
  {
   "cell_type": "code",
   "execution_count": 4,
   "id": "1621c9a2",
   "metadata": {},
   "outputs": [],
   "source": [
    "# Q1->\n",
    "a = [4,8,15,16,23,42]\n",
    "ans = pd.Series(a)"
   ]
  },
  {
   "cell_type": "code",
   "execution_count": 5,
   "id": "cd77d19c",
   "metadata": {},
   "outputs": [
    {
     "data": {
      "text/plain": [
       "0     4\n",
       "1     8\n",
       "2    15\n",
       "3    16\n",
       "4    23\n",
       "5    42\n",
       "dtype: int64"
      ]
     },
     "execution_count": 5,
     "metadata": {},
     "output_type": "execute_result"
    }
   ],
   "source": [
    "ans"
   ]
  },
  {
   "cell_type": "code",
   "execution_count": 9,
   "id": "3c50f25b",
   "metadata": {},
   "outputs": [
    {
     "name": "stdout",
     "output_type": "stream",
     "text": [
      "0     15\n",
      "1    515\n",
      "2     48\n",
      "3     56\n",
      "4     51\n",
      "5     84\n",
      "6     69\n",
      "7     84\n",
      "8     66\n",
      "9     87\n",
      "dtype: int64\n"
     ]
    }
   ],
   "source": [
    "# Q2->\n",
    "li = [15,515,48,56,51,84,69,84,66,87]\n",
    "Ser = pd.Series(li)\n",
    "print(Ser)"
   ]
  },
  {
   "cell_type": "code",
   "execution_count": 10,
   "id": "8a0cff88",
   "metadata": {},
   "outputs": [],
   "source": [
    "# Q3->\n",
    "data = {'Name': ['Alice','Bob','Claire'], 'Age': [25,30,27], 'Gender': ['Female','Male','Female']}"
   ]
  },
  {
   "cell_type": "code",
   "execution_count": 11,
   "id": "2ffe631c",
   "metadata": {},
   "outputs": [],
   "source": [
    "df = pd.DataFrame(data)"
   ]
  },
  {
   "cell_type": "code",
   "execution_count": 12,
   "id": "dc0a7f3c",
   "metadata": {},
   "outputs": [
    {
     "data": {
      "text/html": [
       "<div>\n",
       "<style scoped>\n",
       "    .dataframe tbody tr th:only-of-type {\n",
       "        vertical-align: middle;\n",
       "    }\n",
       "\n",
       "    .dataframe tbody tr th {\n",
       "        vertical-align: top;\n",
       "    }\n",
       "\n",
       "    .dataframe thead th {\n",
       "        text-align: right;\n",
       "    }\n",
       "</style>\n",
       "<table border=\"1\" class=\"dataframe\">\n",
       "  <thead>\n",
       "    <tr style=\"text-align: right;\">\n",
       "      <th></th>\n",
       "      <th>Name</th>\n",
       "      <th>Age</th>\n",
       "      <th>Gender</th>\n",
       "    </tr>\n",
       "  </thead>\n",
       "  <tbody>\n",
       "    <tr>\n",
       "      <th>0</th>\n",
       "      <td>Alice</td>\n",
       "      <td>25</td>\n",
       "      <td>Female</td>\n",
       "    </tr>\n",
       "    <tr>\n",
       "      <th>1</th>\n",
       "      <td>Bob</td>\n",
       "      <td>30</td>\n",
       "      <td>Male</td>\n",
       "    </tr>\n",
       "    <tr>\n",
       "      <th>2</th>\n",
       "      <td>Claire</td>\n",
       "      <td>27</td>\n",
       "      <td>Female</td>\n",
       "    </tr>\n",
       "  </tbody>\n",
       "</table>\n",
       "</div>"
      ],
      "text/plain": [
       "     Name  Age  Gender\n",
       "0   Alice   25  Female\n",
       "1     Bob   30    Male\n",
       "2  Claire   27  Female"
      ]
     },
     "execution_count": 12,
     "metadata": {},
     "output_type": "execute_result"
    }
   ],
   "source": [
    "df"
   ]
  },
  {
   "cell_type": "code",
   "execution_count": 13,
   "id": "4dc1495b",
   "metadata": {},
   "outputs": [
    {
     "data": {
      "text/plain": [
       "pandas.core.frame.DataFrame"
      ]
     },
     "execution_count": 13,
     "metadata": {},
     "output_type": "execute_result"
    }
   ],
   "source": [
    "type(df)"
   ]
  },
  {
   "cell_type": "markdown",
   "id": "4b7c06d4",
   "metadata": {},
   "source": [
    " Q4->\n",
    " The pandas DataFrame is a structure that contains two-dimensional data \n",
    " and its corresponding labels.\n",
    " \n",
    " Pandas series is 1-D list with diaplay of indexes which is Size-immutable – Once created, the size \n",
    "of a Series object cannot be changed and it should contain all values of same datatypes\n",
    "\n",
    "while dataframe is 2 -D Array type structure which is mutable and can contain diffrent datatypes"
   ]
  },
  {
   "cell_type": "markdown",
   "id": "87025da3",
   "metadata": {},
   "source": [
    " Q5->\n",
    " * some common functions you can use to manipulate data in a Pandas DataFrame\n",
    "1. drop column\n",
    "2. drop row\n",
    "3. renaming column\n",
    "4. slicing\n",
    "5. selecting particular dtype\n",
    "\n",
    "\n",
    "we use this manipulation to make our dataset more usefull\n",
    "and know only particular info"
   ]
  },
  {
   "cell_type": "markdown",
   "id": "55700405",
   "metadata": {},
   "source": [
    "Q6 ->\n",
    "* Series are not mutable\n",
    "* DataFrame is mutable\n",
    "* In Panel Data and size are mutable."
   ]
  },
  {
   "cell_type": "code",
   "execution_count": 20,
   "id": "fbb947bc",
   "metadata": {},
   "outputs": [],
   "source": [
    "# Q7->\n",
    "courses = pd.Series([\"Django\",\"Flask\",\"Hadoop\"],name = 'courses')\n",
    "fees = pd.Series([2200,1200,2300],name = 'fees')\n",
    "time_in_months = pd.Series([3,1,4],name = 'time')\n",
    "\n",
    "df1 = pd.concat([courses,fees,time_in_months],axis = 1)"
   ]
  },
  {
   "cell_type": "code",
   "execution_count": 21,
   "id": "2b65846e",
   "metadata": {},
   "outputs": [
    {
     "data": {
      "text/html": [
       "<div>\n",
       "<style scoped>\n",
       "    .dataframe tbody tr th:only-of-type {\n",
       "        vertical-align: middle;\n",
       "    }\n",
       "\n",
       "    .dataframe tbody tr th {\n",
       "        vertical-align: top;\n",
       "    }\n",
       "\n",
       "    .dataframe thead th {\n",
       "        text-align: right;\n",
       "    }\n",
       "</style>\n",
       "<table border=\"1\" class=\"dataframe\">\n",
       "  <thead>\n",
       "    <tr style=\"text-align: right;\">\n",
       "      <th></th>\n",
       "      <th>courses</th>\n",
       "      <th>fees</th>\n",
       "      <th>time</th>\n",
       "    </tr>\n",
       "  </thead>\n",
       "  <tbody>\n",
       "    <tr>\n",
       "      <th>0</th>\n",
       "      <td>Django</td>\n",
       "      <td>2200</td>\n",
       "      <td>3</td>\n",
       "    </tr>\n",
       "    <tr>\n",
       "      <th>1</th>\n",
       "      <td>Flask</td>\n",
       "      <td>1200</td>\n",
       "      <td>1</td>\n",
       "    </tr>\n",
       "    <tr>\n",
       "      <th>2</th>\n",
       "      <td>Hadoop</td>\n",
       "      <td>2300</td>\n",
       "      <td>4</td>\n",
       "    </tr>\n",
       "  </tbody>\n",
       "</table>\n",
       "</div>"
      ],
      "text/plain": [
       "  courses  fees  time\n",
       "0  Django  2200     3\n",
       "1   Flask  1200     1\n",
       "2  Hadoop  2300     4"
      ]
     },
     "execution_count": 21,
     "metadata": {},
     "output_type": "execute_result"
    }
   ],
   "source": [
    "df1"
   ]
  },
  {
   "cell_type": "code",
   "execution_count": null,
   "id": "2c344eed",
   "metadata": {},
   "outputs": [],
   "source": []
  }
 ],
 "metadata": {
  "kernelspec": {
   "display_name": "Python 3",
   "language": "python",
   "name": "python3"
  },
  "language_info": {
   "codemirror_mode": {
    "name": "ipython",
    "version": 3
   },
   "file_extension": ".py",
   "mimetype": "text/x-python",
   "name": "python",
   "nbconvert_exporter": "python",
   "pygments_lexer": "ipython3",
   "version": "3.8.8"
  }
 },
 "nbformat": 4,
 "nbformat_minor": 5
}
