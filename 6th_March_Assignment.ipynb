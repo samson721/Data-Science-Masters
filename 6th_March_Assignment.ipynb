{
 "cells": [
  {
   "cell_type": "markdown",
   "id": "ec27e235",
   "metadata": {},
   "source": [
    "Q1->\n",
    "Statistics is the science of collecting, organizing and analyzing the data\n"
   ]
  },
  {
   "cell_type": "markdown",
   "id": "67f2e803",
   "metadata": {},
   "source": [
    "Q2->\n",
    "Types of Statistics\n",
    "\n",
    "\n",
    "i] Descriptive Statistics  (eg. mean median mode)\n",
    "\n",
    "\n",
    "ii] Inferential Statistics  (eg. ztest)"
   ]
  },
  {
   "cell_type": "markdown",
   "id": "0f7ccc03",
   "metadata": {},
   "source": [
    "Q3->\n",
    "Types of Data\n",
    "\n",
    "i] Quantitative\n",
    "\n",
    "eg. No.of girls in class\n",
    "\n",
    "ii]Qualitative\n",
    "\n",
    "eg. blood group of class"
   ]
  },
  {
   "cell_type": "markdown",
   "id": "0516b502",
   "metadata": {},
   "source": [
    "Q4->\n",
    "\n",
    "1) Qualitative\n",
    "\n",
    "2) Qualitative\n",
    "\n",
    "3) Quantitative\n",
    "\n",
    "4) Quantitative"
   ]
  },
  {
   "cell_type": "markdown",
   "id": "798ea8d9",
   "metadata": {},
   "source": [
    "Q5->\n",
    "There are 4 levels of measurement:\n",
    "\n",
    "Nominal: the data can only be categorized,\n",
    "Variable eg: Gender.\n",
    "\n",
    "Ordinal: the data can be categorized and ranked, \n",
    "Variable eg: Top 5 students in JEE Adv.\n",
    "\n",
    "Interval: the data can be categorized, ranked, and evenly spaced,\n",
    "Variable eg: Marks in JEE Adv.\n",
    "\n",
    "Ratio: the data can be categorized, ranked, evenly spaced, and has a natural zero,\n",
    "Variable eg: Age."
   ]
  },
  {
   "cell_type": "markdown",
   "id": "c22387ed",
   "metadata": {},
   "source": [
    "Q6->\n",
    "It is important to understand the level of measurement of variables in research, because the level of measurement determines the type of statistical analysis that can be conducted, and, therefore, the type of conclusions that can be drawn from the research.\n",
    "\n",
    "ther are diff types of data and make precise decisionwe have to divide in diff levels\n",
    "\n",
    "for ex\n",
    "\n",
    "there are some data whose ranked based but we cant find the diffrence \n",
    "\n",
    "some data starts with zero some dosent ,some needs rank other dont"
   ]
  },
  {
   "cell_type": "markdown",
   "id": "3550e235",
   "metadata": {},
   "source": [
    "Q7->\n",
    "\n",
    "Nominal data:\n",
    "  its categorical in which order does not matter\n",
    "  \n",
    "Ordinal data:\n",
    "   In this Ranking and order matter but diffrnce cannot be done\n"
   ]
  },
  {
   "cell_type": "markdown",
   "id": "cb0b3b69",
   "metadata": {},
   "source": [
    "Q8-> Histogram"
   ]
  },
  {
   "cell_type": "markdown",
   "id": "846269d9",
   "metadata": {},
   "source": [
    "Q9-> \n",
    "Descriptive data:\n",
    "      consist of organizing and summarizing data.\n",
    "      \n",
    " eg average weight of class\n",
    "     \n",
    "Inferential data:\n",
    "     consist of data you have measured to form conclusion\n",
    "     \n",
    " eg is the weight of class 10A has overwight students that whole 10"
   ]
  },
  {
   "cell_type": "markdown",
   "id": "d10e2787",
   "metadata": {},
   "source": [
    "Q10->\n",
    "\n",
    "Measurement of central tendency : Mean(Avg) Median(middle ele) Mode(frequently occurning)\n",
    "\n",
    "Measurement of desspresion :  Std deavaition and VAriance"
   ]
  },
  {
   "cell_type": "code",
   "execution_count": null,
   "id": "9b9faa67",
   "metadata": {},
   "outputs": [],
   "source": []
  }
 ],
 "metadata": {
  "kernelspec": {
   "display_name": "Python 3",
   "language": "python",
   "name": "python3"
  },
  "language_info": {
   "codemirror_mode": {
    "name": "ipython",
    "version": 3
   },
   "file_extension": ".py",
   "mimetype": "text/x-python",
   "name": "python",
   "nbconvert_exporter": "python",
   "pygments_lexer": "ipython3",
   "version": "3.8.8"
  }
 },
 "nbformat": 4,
 "nbformat_minor": 5
}
