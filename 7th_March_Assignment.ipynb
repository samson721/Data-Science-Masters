{
 "cells": [
  {
   "cell_type": "markdown",
   "id": "d57776e2",
   "metadata": {},
   "source": [
    "Q1->\n",
    "Mean ,Median , Mode "
   ]
  },
  {
   "cell_type": "markdown",
   "id": "8613029f",
   "metadata": {},
   "source": [
    "Q2->\n",
    "\n",
    "Mean is Average of data\n",
    "\n",
    "Median is the center element of data\n",
    "\n",
    "Mode ids the most frequent element of data"
   ]
  },
  {
   "cell_type": "code",
   "execution_count": 4,
   "id": "d9d4dcf9",
   "metadata": {},
   "outputs": [
    {
     "data": {
      "text/plain": [
       "69.6"
      ]
     },
     "execution_count": 4,
     "metadata": {},
     "output_type": "execute_result"
    }
   ],
   "source": [
    "import numpy as np\n",
    "wieght = [50,55,78,95,78,78,55,60,62,85]\n",
    "np.mean(wieght)"
   ]
  },
  {
   "cell_type": "code",
   "execution_count": 5,
   "id": "03d553c0",
   "metadata": {},
   "outputs": [
    {
     "data": {
      "text/plain": [
       "70.0"
      ]
     },
     "execution_count": 5,
     "metadata": {},
     "output_type": "execute_result"
    }
   ],
   "source": [
    "np.median(wieght)"
   ]
  },
  {
   "cell_type": "code",
   "execution_count": 6,
   "id": "6331f8ab",
   "metadata": {},
   "outputs": [],
   "source": [
    "from scipy import stats"
   ]
  },
  {
   "cell_type": "code",
   "execution_count": 8,
   "id": "02b37b0a",
   "metadata": {},
   "outputs": [
    {
     "data": {
      "text/plain": [
       "ModeResult(mode=array([78]), count=array([3]))"
      ]
     },
     "execution_count": 8,
     "metadata": {},
     "output_type": "execute_result"
    }
   ],
   "source": [
    "stats.mode(wieght)"
   ]
  },
  {
   "cell_type": "code",
   "execution_count": 10,
   "id": "7c5efa2c",
   "metadata": {},
   "outputs": [
    {
     "data": {
      "text/plain": [
       "177.01875"
      ]
     },
     "execution_count": 10,
     "metadata": {},
     "output_type": "execute_result"
    }
   ],
   "source": [
    "# Q3->\n",
    "data = [178,177,176,177,178.2,178,175,179,180,175,178.9,176.2,177,172.5,178,176.5]\n",
    "np.mean(data)"
   ]
  },
  {
   "cell_type": "code",
   "execution_count": 11,
   "id": "d9f2c5e9",
   "metadata": {},
   "outputs": [
    {
     "data": {
      "text/plain": [
       "177.0"
      ]
     },
     "execution_count": 11,
     "metadata": {},
     "output_type": "execute_result"
    }
   ],
   "source": [
    "np.median(data)"
   ]
  },
  {
   "cell_type": "code",
   "execution_count": 12,
   "id": "9e0291d0",
   "metadata": {},
   "outputs": [
    {
     "data": {
      "text/plain": [
       "ModeResult(mode=array([177.]), count=array([3]))"
      ]
     },
     "execution_count": 12,
     "metadata": {},
     "output_type": "execute_result"
    }
   ],
   "source": [
    "stats.mode(data)"
   ]
  },
  {
   "cell_type": "code",
   "execution_count": 13,
   "id": "790cf89e",
   "metadata": {},
   "outputs": [
    {
     "data": {
      "text/plain": [
       "1.7885814036548633"
      ]
     },
     "execution_count": 13,
     "metadata": {},
     "output_type": "execute_result"
    }
   ],
   "source": [
    "data1 = [178,177,176,177,178.2,178,175,179,180,175,178.9,176.2,177,172.5,178,176.5]\n",
    "np.std(data1)"
   ]
  },
  {
   "cell_type": "markdown",
   "id": "63fc7329",
   "metadata": {},
   "source": [
    "std devaition = root of variance "
   ]
  },
  {
   "cell_type": "code",
   "execution_count": 14,
   "id": "25ac1c78",
   "metadata": {},
   "outputs": [],
   "source": [
    "# variance  = sum of (xi - xbar)/n-1"
   ]
  },
  {
   "cell_type": "markdown",
   "id": "a5543875",
   "metadata": {},
   "source": [
    "Q5->\n",
    "\n",
    "Variance measures space between each number in the dataset from the mean. To cal variance first, calculate the mean and squared deviations from a mean.\n",
    "\n",
    "variance  = sum of (xi - xbar)/n-1  {sample variance}\n",
    "\n",
    "standard deviation is claculated by takin g square root of variance\n",
    "Low standard deviation indicates data points close to mean."
   ]
  },
  {
   "cell_type": "markdown",
   "id": "729bbeec",
   "metadata": {},
   "source": [
    "Q6->\n",
    "\n",
    "A Venn diagram is an illustration that uses circles to show the relationships among things or finite groups of things. Circles that overlap have a commonality while circles that do not overlap do not share those traits."
   ]
  },
  {
   "cell_type": "markdown",
   "id": "223046b2",
   "metadata": {},
   "source": [
    "Q7->\n",
    "\n",
    "A intersection B = {2,6}\n",
    "\n",
    "A union B = {2,3,4,5,6,7,0,8,10}"
   ]
  },
  {
   "cell_type": "markdown",
   "id": "36816e0c",
   "metadata": {},
   "source": [
    "Q8->\n",
    "\n",
    "Skewness is a measure of the asymmetry of a distribution. A distribution is asymmetrical when its left and right side are not mirror images\n",
    "\n",
    "\n"
   ]
  },
  {
   "cell_type": "markdown",
   "id": "c65f8553",
   "metadata": {},
   "source": [
    "Q9->\n",
    "\n",
    "Mean > median\n",
    "and mean will be in the right of median\n"
   ]
  },
  {
   "cell_type": "markdown",
   "id": "6ac9b5f3",
   "metadata": {},
   "source": [
    "Q10->\n",
    "\n",
    "Covariance is an indicator of the extent to which 2 random variables are dependent on each other. A higher number denotes higher dependency. Correlation is a statistical measure that indicates how strongly two variables are related. \n",
    "\n",
    "Covariance is a statistical tool used to determine the relationship between the movements of two random variables. When two stocks tend to move together, they are seen as having a positive covariance; when they move inversely, the covariance is negative.\n",
    "\n",
    "correlation is calculated by dividing the covariance between two variables by the product of their standard deviations"
   ]
  },
  {
   "cell_type": "markdown",
   "id": "e92e6463",
   "metadata": {},
   "source": [
    "Q11 -> \n",
    "\n",
    "sample mean:  sum of x1+x2+x3+...+xn/n"
   ]
  },
  {
   "cell_type": "code",
   "execution_count": 15,
   "id": "96d04950",
   "metadata": {},
   "outputs": [
    {
     "data": {
      "text/plain": [
       "69.6"
      ]
     },
     "execution_count": 15,
     "metadata": {},
     "output_type": "execute_result"
    }
   ],
   "source": [
    "wieght = [50,55,78,95,78,78,55,60,62,85]\n",
    "np.mean(wieght)"
   ]
  },
  {
   "cell_type": "markdown",
   "id": "7bdafeb6",
   "metadata": {},
   "source": [
    "Q12->\n",
    "\n",
    "mean = median = mode"
   ]
  },
  {
   "cell_type": "markdown",
   "id": "b1fa41c6",
   "metadata": {},
   "source": [
    "Q13->\n",
    "\n",
    "Covariance is an indicator of the extent to which 2 random variables are dependent on each other. A higher number denotes higher dependency. Correlation is a statistical measure that indicates how strongly two variables are related. "
   ]
  },
  {
   "cell_type": "markdown",
   "id": "e19ec9de",
   "metadata": {},
   "source": [
    "Q14->\n",
    " \n",
    "In measure of ceentral tendency mean is affected the most by outliers a sits the average of data\n",
    "and it would change drastically wheras median is slightly changed by outlier \n",
    "and mode is the least in affected by outliers.\n",
    "\n"
   ]
  },
  {
   "cell_type": "code",
   "execution_count": 18,
   "id": "cf2768db",
   "metadata": {},
   "outputs": [
    {
     "name": "stdout",
     "output_type": "stream",
     "text": [
      "69.6\n",
      "177.0\n",
      "ModeResult(mode=array([177.]), count=array([3]))\n"
     ]
    }
   ],
   "source": [
    "wieght = [50,55,78,95,78,78,55,60,62,85]\n",
    "print(np.mean(wieght))\n",
    "print(np.median(data))\n",
    "print(stats.mode(data))"
   ]
  },
  {
   "cell_type": "code",
   "execution_count": 19,
   "id": "06532fac",
   "metadata": {},
   "outputs": [
    {
     "name": "stdout",
     "output_type": "stream",
     "text": [
      "86.0\n",
      "177.0\n",
      "ModeResult(mode=array([177.]), count=array([3]))\n"
     ]
    }
   ],
   "source": [
    "wieght = [50,55,78,95,78,78,55,60,62,85,250] #250 is outlier\n",
    "print(np.mean(wieght))\n",
    "print(np.median(data))\n",
    "print(stats.mode(data))"
   ]
  },
  {
   "cell_type": "markdown",
   "id": "03169caa",
   "metadata": {},
   "source": [
    "And as in Measure of despersion \n",
    "\n",
    "Variance and Standard deviation uses sample mean it is also affected"
   ]
  },
  {
   "cell_type": "code",
   "execution_count": null,
   "id": "61ed93b7",
   "metadata": {},
   "outputs": [],
   "source": []
  }
 ],
 "metadata": {
  "kernelspec": {
   "display_name": "Python 3",
   "language": "python",
   "name": "python3"
  },
  "language_info": {
   "codemirror_mode": {
    "name": "ipython",
    "version": 3
   },
   "file_extension": ".py",
   "mimetype": "text/x-python",
   "name": "python",
   "nbconvert_exporter": "python",
   "pygments_lexer": "ipython3",
   "version": "3.8.8"
  }
 },
 "nbformat": 4,
 "nbformat_minor": 5
}
