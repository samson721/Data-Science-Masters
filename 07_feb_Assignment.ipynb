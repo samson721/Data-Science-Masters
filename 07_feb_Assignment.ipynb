{
 "cells": [
  {
   "cell_type": "code",
   "execution_count": 13,
   "id": "45f336e6",
   "metadata": {},
   "outputs": [],
   "source": [
    "# Q1->\n",
    "\n",
    "def Isvalid(str1):\n",
    "    n = len(str1)\n",
    "    up = 0\n",
    "    lw = 0\n",
    "    num = 0\n",
    "    sp = 0\n",
    "    for i in range(n):\n",
    "        if str1[i].isupper() == True:\n",
    "            up+=1\n",
    "        elif str1[i].islower() == True:\n",
    "            lw+=1\n",
    "        elif str1[i].isnumeric() == True:\n",
    "            num += 1\n",
    "        else:\n",
    "            sp += 1\n",
    "\n",
    "    if up>=2 and lw>=3 and num>=1 and sp>=3 and n>= 10:\n",
    "        print(\"Valid password\")\n",
    "    else:\n",
    "        print(\"invalid password\")"
   ]
  },
  {
   "cell_type": "code",
   "execution_count": 14,
   "id": "fece920e",
   "metadata": {},
   "outputs": [
    {
     "name": "stdout",
     "output_type": "stream",
     "text": [
      "Valid password\n"
     ]
    }
   ],
   "source": [
    "Isvalid(\"GhJHhiH#@$545\")"
   ]
  },
  {
   "cell_type": "code",
   "execution_count": 2,
   "id": "206c1f4e",
   "metadata": {},
   "outputs": [
    {
     "name": "stdout",
     "output_type": "stream",
     "text": [
      "[1, 3, 5, 7, 9]\n"
     ]
    }
   ],
   "source": [
    "# Q2->\n",
    "# Filter odd numbers from the given list.\n",
    "l1 = [1,2,3,4,5,6,7,8,9,10]\n",
    "l2 = [x for x in l1 if x%2!=0]\n",
    "print(l2)"
   ]
  },
  {
   "cell_type": "code",
   "execution_count": 7,
   "id": "c59de37c",
   "metadata": {},
   "outputs": [
    {
     "name": "stdout",
     "output_type": "stream",
     "text": [
      "postive Numbers  [1, 2, 3, 4, 5, 6, 0]\n",
      "Negative Numbers  [-1, -2, -3, -4, -5]\n"
     ]
    }
   ],
   "source": [
    "# Sort a list of integers into positive and negative integers lists.\n",
    "num = [1,2,3,4,5,6,-1,-2,-3,-4,-5,0]\n",
    "positive = [x for x in num if x>=0]\n",
    "negative = [x for x in num if x<0]\n",
    "\n",
    "print(\"postive Numbers \", positive)\n",
    "print(\"Negative Numbers \", negative)"
   ]
  },
  {
   "cell_type": "code",
   "execution_count": 9,
   "id": "f59912ba",
   "metadata": {},
   "outputs": [],
   "source": [
    "# Sort a list of integers into positive and negative integers lists.\n",
    "def Iseven(num):\n",
    "    return Trur if num %2 == 0 else False"
   ]
  },
  {
   "cell_type": "code",
   "execution_count": 10,
   "id": "1ced7cf5",
   "metadata": {},
   "outputs": [
    {
     "data": {
      "text/plain": [
       "False"
      ]
     },
     "execution_count": 10,
     "metadata": {},
     "output_type": "execute_result"
    }
   ],
   "source": [
    "Iseven(45)"
   ]
  },
  {
   "cell_type": "code",
   "execution_count": 15,
   "id": "dc75f3d9",
   "metadata": {},
   "outputs": [
    {
     "data": {
      "text/plain": [
       "[1, 4, 9, 16, 25, 36, 49, 64, 81, 100]"
      ]
     },
     "execution_count": 15,
     "metadata": {},
     "output_type": "execute_result"
    }
   ],
   "source": [
    "# Find the squares of numbers from 1 to 10\n",
    "list1 = [1,2,3,4,5,6,7,8,9,10]\n",
    "lsq = [x**2 for x in list1]\n",
    "lsq"
   ]
  },
  {
   "cell_type": "code",
   "execution_count": 16,
   "id": "efc2cc81",
   "metadata": {},
   "outputs": [
    {
     "data": {
      "text/plain": [
       "[1, 8, 27, 64, 125, 216, 343, 512, 729, 1000]"
      ]
     },
     "execution_count": 16,
     "metadata": {},
     "output_type": "execute_result"
    }
   ],
   "source": [
    "# Find the cube root of numbers from 1 to 10\n",
    "lcb = [x**3 for x in list1]\n",
    "lcb"
   ]
  },
  {
   "cell_type": "code",
   "execution_count": 19,
   "id": "d919d248",
   "metadata": {},
   "outputs": [
    {
     "name": "stdout",
     "output_type": "stream",
     "text": [
      "The letters is present and i.e:\n",
      "s\n"
     ]
    }
   ],
   "source": [
    "# Check if the string starts with a particular letterY\n",
    "def fun(str):\n",
    "\tchar = 's'\n",
    "\tif (char in str):\n",
    "\t\treturn True\n",
    "\telse:\n",
    "\t\treturn False\n",
    "\n",
    "\n",
    "\n",
    "name = \"Samson\"\n",
    "\n",
    "filtered = filter(fun, name)\n",
    "\n",
    "print('The letters is present and i.e:')\n",
    "for s in filtered:\n",
    "\tprint(s)\n"
   ]
  },
  {
   "cell_type": "code",
   "execution_count": null,
   "id": "7797186b",
   "metadata": {},
   "outputs": [],
   "source": []
  }
 ],
 "metadata": {
  "kernelspec": {
   "display_name": "Python 3",
   "language": "python",
   "name": "python3"
  },
  "language_info": {
   "codemirror_mode": {
    "name": "ipython",
    "version": 3
   },
   "file_extension": ".py",
   "mimetype": "text/x-python",
   "name": "python",
   "nbconvert_exporter": "python",
   "pygments_lexer": "ipython3",
   "version": "3.8.8"
  }
 },
 "nbformat": 4,
 "nbformat_minor": 5
}
