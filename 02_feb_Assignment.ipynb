{
 "cells": [
  {
   "cell_type": "markdown",
   "id": "78fd9a61",
   "metadata": {},
   "source": [
    "Q1 ->\n",
    "Characterstics of tuple:\n",
    "    1 Ordered\n",
    "    2 allows duplicate valuess\n",
    "    3 Immutable\n",
    "yes tuples are immutable"
   ]
  },
  {
   "cell_type": "code",
   "execution_count": 3,
   "id": "4a58035d",
   "metadata": {},
   "outputs": [
    {
     "data": {
      "text/plain": [
       "2"
      ]
     },
     "execution_count": 3,
     "metadata": {},
     "output_type": "execute_result"
    }
   ],
   "source": [
    "# Q2->\n",
    "# the two tuple methods are :\n",
    "# count() and index()\n",
    "t1 = (1,2,3,'Samson',False,3)\n",
    "\n",
    "# for count() funtion:\n",
    "#     it returns the number of Occurnece of a value\n",
    "t1.count(3)"
   ]
  },
  {
   "cell_type": "code",
   "execution_count": 4,
   "id": "8a3ad9d5",
   "metadata": {},
   "outputs": [
    {
     "data": {
      "text/plain": [
       "3"
      ]
     },
     "execution_count": 4,
     "metadata": {},
     "output_type": "execute_result"
    }
   ],
   "source": [
    "# index() return first index of value\n",
    "t1.index('Samson')\n",
    "\n",
    "# The main reason why tuples have only 2 functio  is that there are immutable and they don't want to change its internal value"
   ]
  },
  {
   "cell_type": "code",
   "execution_count": 8,
   "id": "357bff6a",
   "metadata": {},
   "outputs": [
    {
     "data": {
      "text/plain": [
       "{1, 2, 3, 4}"
      ]
     },
     "execution_count": 8,
     "metadata": {},
     "output_type": "execute_result"
    }
   ],
   "source": [
    "# Q3->\n",
    "# sets do not allow duplicate values\n",
    "\n",
    "# code:\n",
    "\n",
    "List = [1, 1, 1, 2, 1, 3, 1, 4, 2, 1, 2, 2, 2, 3, 2, 4, 3, 1, 3, 2, 3, 3, 3, 4, 4, 1, 4, 2, 4, 3, 4, 4]\n",
    "Sets = set(List)\n",
    "Sets"
   ]
  },
  {
   "cell_type": "code",
   "execution_count": 12,
   "id": "b76998a5",
   "metadata": {},
   "outputs": [
    {
     "data": {
      "text/plain": [
       "{1, 2, 3, 4, 5, 8}"
      ]
     },
     "execution_count": 12,
     "metadata": {},
     "output_type": "execute_result"
    }
   ],
   "source": [
    "# Q4 ->\n",
    "# update() adds all missing elements to the set on which it is called whereas set. union() creates a new set.\n",
    "\n",
    "set = {1,2,3,4,5}\n",
    "set.union({8})\n"
   ]
  },
  {
   "cell_type": "code",
   "execution_count": 13,
   "id": "f679b4c8",
   "metadata": {},
   "outputs": [],
   "source": [
    "set.update({45})"
   ]
  },
  {
   "cell_type": "code",
   "execution_count": 14,
   "id": "ae84b30e",
   "metadata": {},
   "outputs": [
    {
     "data": {
      "text/plain": [
       "{1, 2, 3, 4, 5, 45}"
      ]
     },
     "execution_count": 14,
     "metadata": {},
     "output_type": "execute_result"
    }
   ],
   "source": [
    "set"
   ]
  },
  {
   "cell_type": "code",
   "execution_count": 16,
   "id": "5a9a5380",
   "metadata": {},
   "outputs": [
    {
     "data": {
      "text/plain": [
       "{'Nme': 'Samson', 'Age': 22, 'Course': 'DSM'}"
      ]
     },
     "execution_count": 16,
     "metadata": {},
     "output_type": "execute_result"
    }
   ],
   "source": [
    "# Q5->\n",
    "#  Dictionaries are used to store data values in key:value pairs. \n",
    "#  A dictionary is a collection which is ordered, changeable and do not allow duplicates.\n",
    "\n",
    "Dict = {\"Nme\": \"Samson\", \"Age\": 22, \"Course\": \"DSM\"}\n",
    "Dict\n",
    "\n",
    "# Dictionaries are ordered"
   ]
  },
  {
   "cell_type": "code",
   "execution_count": 20,
   "id": "7a64e26b",
   "metadata": {},
   "outputs": [
    {
     "data": {
      "text/plain": [
       "{'class': {'Name': 'Lotus'}}"
      ]
     },
     "execution_count": 20,
     "metadata": {},
     "output_type": "execute_result"
    }
   ],
   "source": [
    "# Q6 ->\n",
    "# Yes we can create Nested Dictionaries\n",
    "\n",
    "School = {\"class\" : {\"Name\" : \"Lotus\"}}\n",
    "\n",
    "School"
   ]
  },
  {
   "cell_type": "code",
   "execution_count": 28,
   "id": "8e6273b3",
   "metadata": {},
   "outputs": [
    {
     "data": {
      "text/plain": [
       "{'language': 'Python',\n",
       " 'course': 'Data Science Masters',\n",
       " 'topics': ['Python', 'Machine Learning', 'Deep Learning']}"
      ]
     },
     "execution_count": 28,
     "metadata": {},
     "output_type": "execute_result"
    }
   ],
   "source": [
    "# Q7->\n",
    "dict1 = {'language' : 'Python', 'course': 'Data Science Masters'}\n",
    "dict1.setdefault('topics', [\"Python\" , \"Machine Learning\", \"Deep Learning\"])\n",
    "dict1"
   ]
  },
  {
   "cell_type": "code",
   "execution_count": 30,
   "id": "4987cbc0",
   "metadata": {},
   "outputs": [
    {
     "data": {
      "text/plain": [
       "dict_keys(['Sport', 'Teams'])"
      ]
     },
     "execution_count": 30,
     "metadata": {},
     "output_type": "execute_result"
    }
   ],
   "source": [
    "# Q8->\n",
    "# the three view objects in dictionaries are Keys, Values and Items\n",
    "\n",
    "dict1 = {'Sport': 'Cricket' , 'Teams': ['India', 'Australia', 'England', 'South Africa', 'Sri Lanka', 'New Zealand']}\n",
    "dict1.keys()"
   ]
  },
  {
   "cell_type": "code",
   "execution_count": 31,
   "id": "839fa7c9",
   "metadata": {},
   "outputs": [
    {
     "data": {
      "text/plain": [
       "dict_values(['Cricket', ['India', 'Australia', 'England', 'South Africa', 'Sri Lanka', 'New Zealand']])"
      ]
     },
     "execution_count": 31,
     "metadata": {},
     "output_type": "execute_result"
    }
   ],
   "source": [
    "dict1.values()"
   ]
  },
  {
   "cell_type": "code",
   "execution_count": 32,
   "id": "0d639222",
   "metadata": {},
   "outputs": [
    {
     "data": {
      "text/plain": [
       "dict_items([('Sport', 'Cricket'), ('Teams', ['India', 'Australia', 'England', 'South Africa', 'Sri Lanka', 'New Zealand'])])"
      ]
     },
     "execution_count": 32,
     "metadata": {},
     "output_type": "execute_result"
    }
   ],
   "source": [
    "dict1.items()"
   ]
  },
  {
   "cell_type": "code",
   "execution_count": null,
   "id": "081c9d14",
   "metadata": {},
   "outputs": [],
   "source": []
  }
 ],
 "metadata": {
  "kernelspec": {
   "display_name": "Python 3",
   "language": "python",
   "name": "python3"
  },
  "language_info": {
   "codemirror_mode": {
    "name": "ipython",
    "version": 3
   },
   "file_extension": ".py",
   "mimetype": "text/x-python",
   "name": "python",
   "nbconvert_exporter": "python",
   "pygments_lexer": "ipython3",
   "version": "3.8.8"
  }
 },
 "nbformat": 4,
 "nbformat_minor": 5
}
