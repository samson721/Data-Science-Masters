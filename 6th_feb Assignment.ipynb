{
 "cells": [
  {
   "cell_type": "code",
   "execution_count": 31,
   "id": "e5417c75",
   "metadata": {},
   "outputs": [],
   "source": [
    "# Q1->\n",
    "list1 = [1,2,3,4, [44,55,66, True], False, (34,56,78,89,34), {1,2,3,3,2,1}, {1:34, \"key2\": [55, 67, 78, 89], 4: (45,\n",
    "22, 61, 34)}, [56, 'data science'], 'Machine Learning']"
   ]
  },
  {
   "cell_type": "code",
   "execution_count": 32,
   "id": "8c86fee1",
   "metadata": {},
   "outputs": [],
   "source": [
    "list2 = []\n",
    "for x in list1:\n",
    "    if type(x) == tuple:\n",
    "        for i in x :\n",
    "            if type(i) == int:\n",
    "                list2.append(i)\n",
    "                \n",
    "    if type(x) == list:\n",
    "        for j in x:\n",
    "            if type(j) == int:\n",
    "                list2.append(j) \n",
    "            \n",
    "    if type(x) == set:\n",
    "        for k in x:\n",
    "            if type(k) == int:\n",
    "                list2.append(k)\n",
    "                \n",
    "    if type(x) == dict:\n",
    "        for l in x.values():\n",
    "            if type(l) == tuple:\n",
    "                for i in l :\n",
    "                    if type(i) == int:\n",
    "                        list2.append(i)\n",
    "            if type(l) == list:\n",
    "                for j in l:\n",
    "                    if type(j) == int:\n",
    "                        list2.append(j)\n",
    "            if type(l) == int:\n",
    "                list2.append(l)\n",
    "                \n",
    "        \n",
    "        for g in x.items():\n",
    "            if type(g) == int:\n",
    "                list2.append(g)\n",
    "            \n",
    "                \n",
    "    if type(x) == int:\n",
    "        list2.append(x)"
   ]
  },
  {
   "cell_type": "code",
   "execution_count": 33,
   "id": "463ff44a",
   "metadata": {},
   "outputs": [
    {
     "data": {
      "text/plain": [
       "[1,\n",
       " 2,\n",
       " 3,\n",
       " 4,\n",
       " 44,\n",
       " 55,\n",
       " 66,\n",
       " 34,\n",
       " 56,\n",
       " 78,\n",
       " 89,\n",
       " 34,\n",
       " 1,\n",
       " 2,\n",
       " 3,\n",
       " 34,\n",
       " 55,\n",
       " 67,\n",
       " 78,\n",
       " 89,\n",
       " 45,\n",
       " 22,\n",
       " 61,\n",
       " 34,\n",
       " 56]"
      ]
     },
     "execution_count": 33,
     "metadata": {},
     "output_type": "execute_result"
    }
   ],
   "source": [
    "list2"
   ]
  },
  {
   "cell_type": "code",
   "execution_count": 34,
   "id": "b51fb6df",
   "metadata": {},
   "outputs": [],
   "source": [
    "prod =1\n",
    "for x in list2:\n",
    "    prod = prod*x"
   ]
  },
  {
   "cell_type": "code",
   "execution_count": 35,
   "id": "1160d763",
   "metadata": {},
   "outputs": [
    {
     "data": {
      "text/plain": [
       "1033677959746771369708460310528000"
      ]
     },
     "execution_count": 35,
     "metadata": {},
     "output_type": "execute_result"
    }
   ],
   "source": [
    "prod"
   ]
  },
  {
   "cell_type": "code",
   "execution_count": 42,
   "id": "24a2b405",
   "metadata": {},
   "outputs": [],
   "source": [
    "# Q2-> Encryption\n",
    "\n",
    "def enc(strf):\n",
    "    str2 = \"\"\n",
    "    for x in range(len(strf)):\n",
    "        if strf[x] == 'a':\n",
    "            str2 += 'z'\n",
    "        elif strf[x] == 'b':\n",
    "            str2 += 'y'\n",
    "        elif strf[x] == 'c':\n",
    "            str2 += 'x'\n",
    "        elif strf[x] == ' ':\n",
    "            str2 += '$'\n",
    "        else:\n",
    "            str2 += strf[x]\n",
    "    return str2"
   ]
  },
  {
   "cell_type": "code",
   "execution_count": 43,
   "id": "b5e65067",
   "metadata": {},
   "outputs": [
    {
     "data": {
      "text/plain": [
       "'I$wznt$to$yexome$z$Dztz$Sxientist'"
      ]
     },
     "execution_count": 43,
     "metadata": {},
     "output_type": "execute_result"
    }
   ],
   "source": [
    "enc(\"I want to become a Data Scientist\")"
   ]
  },
  {
   "cell_type": "code",
   "execution_count": null,
   "id": "45622d5c",
   "metadata": {},
   "outputs": [],
   "source": []
  }
 ],
 "metadata": {
  "kernelspec": {
   "display_name": "Python 3",
   "language": "python",
   "name": "python3"
  },
  "language_info": {
   "codemirror_mode": {
    "name": "ipython",
    "version": 3
   },
   "file_extension": ".py",
   "mimetype": "text/x-python",
   "name": "python",
   "nbconvert_exporter": "python",
   "pygments_lexer": "ipython3",
   "version": "3.8.8"
  }
 },
 "nbformat": 4,
 "nbformat_minor": 5
}
