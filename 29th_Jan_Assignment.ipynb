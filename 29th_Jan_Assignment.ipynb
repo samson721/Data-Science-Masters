{
 "cells": [
  {
   "cell_type": "markdown",
   "id": "a2fb7600",
   "metadata": {},
   "source": [
    "Q1 -> Python was developed by Guido van Rossum and was 1st released at 20 feb 1991"
   ]
  },
  {
   "cell_type": "markdown",
   "id": "d804d70d",
   "metadata": {},
   "source": [
    "Q2 -> Python supports Object-oriented programming and structured programming"
   ]
  },
  {
   "cell_type": "markdown",
   "id": "c9962d00",
   "metadata": {},
   "source": [
    "Q3 -> Yes it is case sensitive"
   ]
  },
  {
   "cell_type": "markdown",
   "id": "8f44b362",
   "metadata": {},
   "source": [
    "Q4 -> .py"
   ]
  },
  {
   "cell_type": "markdown",
   "id": "41b1db9f",
   "metadata": {},
   "source": [
    "Q5 -> Interpreted language ,python interprets every line then only it moves to next line"
   ]
  },
  {
   "cell_type": "markdown",
   "id": "df20b9a5",
   "metadata": {},
   "source": [
    "Q6 -> Indentation is used to define a block of code in python"
   ]
  },
  {
   "cell_type": "markdown",
   "id": "3f11a72d",
   "metadata": {},
   "source": [
    "Q7 -> #"
   ]
  },
  {
   "cell_type": "markdown",
   "id": "b526c64f",
   "metadata": {},
   "source": [
    "Q8 -> python_version() function."
   ]
  },
  {
   "cell_type": "markdown",
   "id": "eba56dd9",
   "metadata": {},
   "source": [
    "Q9 -> lambda"
   ]
  },
  {
   "cell_type": "markdown",
   "id": "69e64ea1",
   "metadata": {},
   "source": [
    "Q10 -> pip stands for preferred installer program\n"
   ]
  },
  {
   "cell_type": "markdown",
   "id": "9c4ae3a3",
   "metadata": {},
   "source": [
    "Q11 -> some built in function are input(), print(), type()"
   ]
  },
  {
   "cell_type": "markdown",
   "id": "16db190b",
   "metadata": {},
   "source": [
    "Q12 -> max possible length of identifier in python is 79 characters"
   ]
  },
  {
   "cell_type": "markdown",
   "id": "6bba00db",
   "metadata": {},
   "source": [
    "Q13 -> easy to use, easy to learn, supports OOPs, helps in Machine Learning "
   ]
  },
  {
   "cell_type": "markdown",
   "id": "e35e651c",
   "metadata": {},
   "source": [
    "Q14 -> Memory management in python is done through heap"
   ]
  },
  {
   "cell_type": "markdown",
   "id": "00a045c1",
   "metadata": {},
   "source": [
    "Q15 -> \n",
    "\n",
    "1st in cmd type pip install python then\n",
    "\n",
    "Right-clicking This PC and going to Properties.\n",
    "\n",
    "Clicking on the Advanced system settings in the menu on the left.\n",
    "\n",
    "Clicking on the Environment Variables button on the bottom right.\n",
    "\n",
    "In the System variables section, selecting the Path variable and clicking on Edit.\n",
    "The next screen will show all the directories that are currently a part of the PATH variable.\n",
    "\n",
    "Clicking on New and entering Python’s install directory.\n",
    "\n",
    "to check go to cmd and type python -- version if version is coming then its installed"
   ]
  },
  {
   "cell_type": "markdown",
   "id": "f07fa378",
   "metadata": {},
   "source": [
    "Q16 -> Yes, Indenattion is reqired in python"
   ]
  },
  {
   "cell_type": "code",
   "execution_count": null,
   "id": "4811c61f",
   "metadata": {},
   "outputs": [],
   "source": []
  }
 ],
 "metadata": {
  "kernelspec": {
   "display_name": "Python 3",
   "language": "python",
   "name": "python3"
  },
  "language_info": {
   "codemirror_mode": {
    "name": "ipython",
    "version": 3
   },
   "file_extension": ".py",
   "mimetype": "text/x-python",
   "name": "python",
   "nbconvert_exporter": "python",
   "pygments_lexer": "ipython3",
   "version": "3.8.8"
  }
 },
 "nbformat": 4,
 "nbformat_minor": 5
}
