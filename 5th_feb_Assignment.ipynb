{
 "cells": [
  {
   "cell_type": "code",
   "execution_count": 1,
   "id": "10a0d370",
   "metadata": {},
   "outputs": [],
   "source": [
    "# Q1->\n",
    "# A Class is like an object constructor, or a \"blueprint\" for creating objects.\n",
    "# A class is a blueprint for creating objects (a particular data structure),\n",
    "# providing initial values for state (member variables or attributes), and \n",
    "# implementations of behavior (member functions or methods).\n",
    "# The user-defined objects are created using the class keyword."
   ]
  },
  {
   "cell_type": "code",
   "execution_count": 3,
   "id": "c966052f",
   "metadata": {},
   "outputs": [],
   "source": [
    "#Class\n",
    "class test1:\n",
    "  x = 5"
   ]
  },
  {
   "cell_type": "code",
   "execution_count": 4,
   "id": "9567a45a",
   "metadata": {},
   "outputs": [
    {
     "name": "stdout",
     "output_type": "stream",
     "text": [
      "5\n"
     ]
    }
   ],
   "source": [
    "#objects\n",
    "p1 = test1()\n",
    "print(p1.x)"
   ]
  },
  {
   "cell_type": "code",
   "execution_count": 5,
   "id": "3b246c61",
   "metadata": {},
   "outputs": [],
   "source": [
    "# Q2->\n",
    "# four pillars of OOPs\n",
    "# 1 Inheritance,\n",
    "# 2 Polymorphism,\n",
    "# 3 Encapsulation\n",
    "# 4 Abstraction"
   ]
  },
  {
   "cell_type": "code",
   "execution_count": 7,
   "id": "ab0074fb",
   "metadata": {},
   "outputs": [
    {
     "name": "stdout",
     "output_type": "stream",
     "text": [
      "Sam\n",
      "22\n"
     ]
    }
   ],
   "source": [
    "# Q3->\n",
    "# The __init__ function is called every time an object is created from a class.\n",
    "# The __init__ method lets the class initialize the object's attributes and\n",
    "# serves no other purpose. It is only used within classes\n",
    "\n",
    "class Person:\n",
    "  def __init__(self, name, age):\n",
    "    self.name = name\n",
    "    self.age = age\n",
    "\n",
    "p1 = Person(\"Sam\", 22)\n",
    "\n",
    "print(p1.name)\n",
    "print(p1.age)"
   ]
  },
  {
   "cell_type": "code",
   "execution_count": 8,
   "id": "eddb3965",
   "metadata": {},
   "outputs": [],
   "source": [
    "# Q4->\n",
    "# The self variable is used to represent the instance of the \n",
    "# class which is often used in object-oriented programming. \n",
    "# It works as a reference to the object. Python uses the self parameter\n",
    "# to refer to instance attributes and methods of the class."
   ]
  },
  {
   "cell_type": "code",
   "execution_count": 9,
   "id": "cb4a4fc8",
   "metadata": {},
   "outputs": [],
   "source": [
    "# # Q5->\n",
    "# nheritance allows us to define a class that inherits all \n",
    "# the methods and properties from another class. \n",
    "# Parent class is the class being inherited from, also called base class.\n",
    "# .Child class is the class that inherits from another class, also called derived class.\n",
    "\n"
   ]
  },
  {
   "cell_type": "code",
   "execution_count": 11,
   "id": "6f7d412b",
   "metadata": {},
   "outputs": [
    {
     "name": "stdout",
     "output_type": "stream",
     "text": [
      "Sam Dream\n"
     ]
    }
   ],
   "source": [
    "class Person:\n",
    "  def __init__(self, fname, lname):\n",
    "    self.firstname = fname\n",
    "    self.lastname = lname\n",
    "\n",
    "  def printname(self):\n",
    "    print(self.firstname, self.lastname)\n",
    "\n",
    "#Use the Person class to create an object, and then execute the printname method:\n",
    "\n",
    "x = Person(\"Sam\", \"Dream\")\n",
    "x.printname()"
   ]
  },
  {
   "cell_type": "code",
   "execution_count": 12,
   "id": "4c8de381",
   "metadata": {},
   "outputs": [],
   "source": [
    "class Student(Person):\n",
    "  pass\n"
   ]
  },
  {
   "cell_type": "code",
   "execution_count": 13,
   "id": "caeb2966",
   "metadata": {},
   "outputs": [
    {
     "name": "stdout",
     "output_type": "stream",
     "text": [
      "Peter Francis\n"
     ]
    }
   ],
   "source": [
    "x = Student(\"Peter\", \"Francis\")\n",
    "x.printname()"
   ]
  },
  {
   "cell_type": "code",
   "execution_count": null,
   "id": "dc564fda",
   "metadata": {},
   "outputs": [],
   "source": []
  }
 ],
 "metadata": {
  "kernelspec": {
   "display_name": "Python 3",
   "language": "python",
   "name": "python3"
  },
  "language_info": {
   "codemirror_mode": {
    "name": "ipython",
    "version": 3
   },
   "file_extension": ".py",
   "mimetype": "text/x-python",
   "name": "python",
   "nbconvert_exporter": "python",
   "pygments_lexer": "ipython3",
   "version": "3.8.8"
  }
 },
 "nbformat": 4,
 "nbformat_minor": 5
}
