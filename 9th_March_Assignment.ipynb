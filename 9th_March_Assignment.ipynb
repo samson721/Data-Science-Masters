{
 "cells": [
  {
   "cell_type": "markdown",
   "id": "4fbea8af",
   "metadata": {},
   "source": [
    "Q1->\n",
    "\n",
    "The probability mass function (PMF) is used to describe discrete probability distributions. In contrast, the probability density function (PDF) is applied to describe continuous probability distributions.\n",
    "\n",
    "e.g. pdf: Hieght of Students\n",
    "\n",
    "pmf : rolling a dice"
   ]
  },
  {
   "cell_type": "markdown",
   "id": "b9574dad",
   "metadata": {},
   "source": [
    "Q2->\n",
    "\n",
    "The cumulative distribution function (CDF) FX(x) describes the probability that a random variable X with a given probability distribution will be found at a value less than or equal to x\n",
    "\n",
    "for Rolling a unbaised dice probability for every number will be 1/6\n",
    "but cdf will add its previous probabilty\n",
    "\n",
    "we need cdf if want to probability of certain area"
   ]
  },
  {
   "cell_type": "markdown",
   "id": "8ed5d774",
   "metadata": {},
   "source": [
    "Q3->\n",
    "\n",
    "hieght,weight\n",
    "\n",
    "the mean determines the center of the distribution, while the standard deviation determines the shape of the distribution. The normal distribution is a bell-shaped curve, and as the mean and standard deviation are adjusted, the curve will shift and change shape accordingly."
   ]
  },
  {
   "cell_type": "markdown",
   "id": "5d2e3c97",
   "metadata": {},
   "source": [
    "Q4->\n",
    "\n",
    "Many statistical tests and models assume that the data being analyzed are normally distributed. This assumption allows researchers to make probabilistic predictions about the data and to draw conclusions about populations based on samples.\n",
    "\n",
    "Additionally, the normal distribution has several desirable properties that make it useful in practice. For example, the mean, median, and mode of a normal distribution are all equal, and the distribution is completely described by its mean and standard deviation. These properties make it easy to analyze and compare data sets that are normally distributed.\n",
    "\n",
    "eg Hieght , IQ Scores"
   ]
  },
  {
   "cell_type": "markdown",
   "id": "d90510dc",
   "metadata": {},
   "source": [
    "Q5->\n",
    "\n",
    "Bernoulli distribution is a discrete probability distribution. It describes the probability of achieving a “success” or “failure” from a Bernoulli trial. A Bernoulli trial is an event that has only two possible outcomes (success or failure). For example, Tossing a coin will land on heads (success) or tails (failure)\n",
    "\n",
    "The Bernoulli distribution represents the success or failure of a single Bernoulli trial. The Binomial Distribution represents the number of successes and failures in n independent Bernoulli trials for some given value of n."
   ]
  },
  {
   "cell_type": "markdown",
   "id": "130519b3",
   "metadata": {},
   "source": [
    "Q6->\n",
    "\n",
    "In Normally distributed dataset \n",
    "\n",
    "mean = 50 and std = 10\n",
    "\n",
    "using std normal distribution \n",
    "\n",
    "z = xi-mean/std\n",
    "\n",
    "z= 60-50/10\n",
    "\n",
    "z=1\n",
    "\n",
    " the area under the curve to the right of z = 1 is 0.1587. that is 15.8%"
   ]
  },
  {
   "cell_type": "markdown",
   "id": "caf2cb30",
   "metadata": {},
   "source": [
    "Q7->\n",
    "\n",
    "Uniform distribution is a type of probability distribution in which all outcomes are equally likely. A deck of cards has within it uniform distributions because the likelihood of drawing a heart, a club, a diamond, or a spade is equally likely."
   ]
  },
  {
   "cell_type": "markdown",
   "id": "e27fae9b",
   "metadata": {},
   "source": [
    "Q8->\n",
    "\n",
    "Z-scores allow you to take data points drawn from populations with different means and standard deviations and place them on a common scale. This standard scale lets you compare observations for different types of variables that would otherwise be difficult.\n",
    "\n",
    "z-score = (xi - mean)/std devtation"
   ]
  },
  {
   "cell_type": "markdown",
   "id": "37d8d545",
   "metadata": {},
   "source": [
    "Q9->\n",
    "\n",
    "The central limit theorem says that the sampling distribution of the mean will always be normally distributed, as long as the sample size is large enough. Regardless of whether the population has a normal, Poisson, binomial, or any other distribution, the sampling distribution of the mean will be normal.\n",
    "\n",
    "The central limit theorem is useful when analyzing large data sets because it allows one to assume that the sampling distribution of the mean will be normally-distributed in most cases. This allows for easier statistical analysis and inference."
   ]
  },
  {
   "cell_type": "markdown",
   "id": "44a60501",
   "metadata": {},
   "source": [
    "Q10->\n",
    "\n",
    "Random Sampling: The sample is drawn from a population in which each individual is selected at random and independently of all other individuals.\n",
    "\n",
    "Independence: The observations within the sample are independent of one another, meaning that the value of one observation does not influence the value of any other observation.\n",
    "\n",
    "Sample Size: The sample size is large enough. There is no strict rule for what constitutes a \"large\" sample size, but generally, a sample size of 30 or more is considered sufficient.\n",
    "\n",
    "Finite Population Correction: If the sample size is a significant fraction of the population size, a finite population correction should be applied.\n",
    "\n",
    "Identical Distribution: The population distribution from which the sample is drawn must have a finite mean and a finite variance. It is not necessary for the population distribution to be normal, but the theorem is most useful when the distribution is approximately normal.\n",
    "Random Sampling: The sample is drawn from a population in which each individual is selected at random and independently of all other individuals.\n",
    "\n",
    "Independence: The observations within the sample are independent of one another, meaning that the value of one observation does not influence the value of any other observation.\n",
    "\n",
    "Sample Size: The sample size is large enough. There is no strict rule for what constitutes a \"large\" sample size, but generally, a sample size of 30 or more is considered sufficient.\n",
    "\n",
    "Finite Population Correction: If the sample size is a significant fraction of the population size, a finite population correction should be applied.\n",
    "\n",
    "Identical Distribution: The population distribution from which the sample is drawn must have a finite mean and a finite variance. It is not necessary for the population distribution to be normal, but the theorem is most useful when the distribution is approximately normal."
   ]
  },
  {
   "cell_type": "code",
   "execution_count": null,
   "id": "b7897050",
   "metadata": {},
   "outputs": [],
   "source": []
  }
 ],
 "metadata": {
  "kernelspec": {
   "display_name": "Python 3",
   "language": "python",
   "name": "python3"
  },
  "language_info": {
   "codemirror_mode": {
    "name": "ipython",
    "version": 3
   },
   "file_extension": ".py",
   "mimetype": "text/x-python",
   "name": "python",
   "nbconvert_exporter": "python",
   "pygments_lexer": "ipython3",
   "version": "3.8.8"
  }
 },
 "nbformat": 4,
 "nbformat_minor": 5
}
