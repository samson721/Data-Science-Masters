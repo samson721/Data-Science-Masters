{
 "cells": [
  {
   "cell_type": "markdown",
   "id": "fb9f9b20",
   "metadata": {},
   "source": [
    "Q1->\n",
    "\n",
    "Estimation statistics is a branch of statistics that deals with the process of estimating population parameters based on a sample of data\n",
    "\n",
    "Point estimate refers to a single value that is used to estimate the value of a population parameter.\n",
    "\n",
    "Interval estimate, on the other hand, provides a range of values within which the population parameter is expected to fall."
   ]
  },
  {
   "cell_type": "code",
   "execution_count": 1,
   "id": "1191f470",
   "metadata": {},
   "outputs": [
    {
     "name": "stdout",
     "output_type": "stream",
     "text": [
      "Population mean estimate: 10.5\n",
      "Confidence interval: (9.846347233218541, 11.153652766781459)\n"
     ]
    }
   ],
   "source": [
    "# Q2->\n",
    "import math\n",
    "from scipy.stats import t\n",
    "\n",
    "def population_mean_estimate(sample_mean, sample_std_dev, sample_size, confidence_level):\n",
    "    \"\"\"Estimates the population mean given a sample mean, sample standard deviation, sample size, and confidence level.\"\"\"\n",
    "    \n",
    "    # Calculate the t-value based on the desired confidence level and degrees of freedom\n",
    "    t_value = t.ppf((1 + confidence_level) / 2, df=sample_size-1)\n",
    "    \n",
    "    # Calculate the margin of error\n",
    "    margin_of_error = t_value * sample_std_dev / math.sqrt(sample_size)\n",
    "    \n",
    "    # Calculate the confidence interval\n",
    "    lower_bound = sample_mean - margin_of_error\n",
    "    upper_bound = sample_mean + margin_of_error\n",
    "    \n",
    "    # Return the estimated population mean and confidence interval\n",
    "    return sample_mean, (lower_bound, upper_bound)\n",
    "\n",
    "\n",
    "# Sample data\n",
    "sample_mean = 10.5\n",
    "sample_std_dev = 2.3\n",
    "sample_size = 50\n",
    "confidence_level = 0.95\n",
    "\n",
    "# Estimate population mean and confidence interval\n",
    "population_mean, confidence_interval = population_mean_estimate(sample_mean, sample_std_dev, sample_size, confidence_level)\n",
    "\n",
    "# Print results\n",
    "print(\"Population mean estimate:\", population_mean)\n",
    "print(\"Confidence interval:\", confidence_interval)\n"
   ]
  },
  {
   "cell_type": "markdown",
   "id": "b840585e",
   "metadata": {},
   "source": [
    "Q3->\n",
    "\n",
    "Hypothesis testing is the process used to evaluate the strength of evidence from the sample and provides a framework for making determinations related to the population, ie, it provides a method for understanding how reliably one can extrapolate observed findings in a sample under study to the larger population from which the sample was drawn\n",
    "\n",
    "Its Importance\n",
    "\n",
    "Provides a systematic framework for decision making\n",
    "\n",
    "Helps to control for randomness and error\n",
    "\n",
    "Enables generalization of results\n",
    "\n",
    "Assists in scientific research\n",
    "\n",
    "Helps in decision-making"
   ]
  },
  {
   "cell_type": "markdown",
   "id": "8a85fda3",
   "metadata": {},
   "source": [
    "Q4->\n",
    "\n",
    "NULL hypothesis(H0):  the average weight of male college students is greater than\n",
    "the average weight of female college students\n",
    "\n",
    "Alternate hypothesis(H1):  the average weight of male college students is not greater than\n",
    "the average weight of female college students"
   ]
  },
  {
   "cell_type": "code",
   "execution_count": 1,
   "id": "b28ba3d3",
   "metadata": {},
   "outputs": [
    {
     "name": "stdout",
     "output_type": "stream",
     "text": [
      "Reject the null hypothesis\n"
     ]
    }
   ],
   "source": [
    "# Q5->\n",
    "\n",
    "import numpy as np\n",
    "from scipy.stats import t\n",
    "\n",
    "# Sample data from two populations\n",
    "male_weights = np.array([70, 80, 85, 90, 75, 72, 78, 79, 81, 83])\n",
    "female_weights = np.array([60, 68, 72, 75, 63, 65, 70, 68, 72, 71])\n",
    "\n",
    "# Calculate the means of the two populations\n",
    "male_mean = np.mean(male_weights)\n",
    "female_mean = np.mean(female_weights)\n",
    "\n",
    "# Calculate the difference between the means\n",
    "mean_diff = male_mean - female_mean\n",
    "\n",
    "# Calculate the standard deviation of the two populations\n",
    "male_std = np.std(male_weights, ddof=1)\n",
    "female_std = np.std(female_weights, ddof=1)\n",
    "\n",
    "# Calculate the standard error of the difference between the means\n",
    "std_error = np.sqrt((male_std**2)/len(male_weights) + (female_std**2)/len(female_weights))\n",
    "\n",
    "# Calculate the t-statistic\n",
    "t_statistic = mean_diff / std_error\n",
    "\n",
    "# Set the significance level and degrees of freedom\n",
    "alpha = 0.05\n",
    "df = len(male_weights) + len(female_weights) - 2\n",
    "\n",
    "# Calculate the critical t-value\n",
    "critical_t = t.ppf(1 - alpha/2, df)\n",
    "\n",
    "# Conduct the hypothesis test\n",
    "if abs(t_statistic) > critical_t:\n",
    "    print(\"Reject the null hypothesis\")\n",
    "else:\n",
    "    print(\"Fail to reject the null hypothesis\")\n",
    "\n",
    "    "
   ]
  },
  {
   "cell_type": "markdown",
   "id": "f5309df0",
   "metadata": {},
   "source": [
    " Q6->\n",
    "\n",
    "Null and alternative hypotheses are used in statistical hypothesis testing. The null hypothesis of a test always predicts no effect or no relationship between variables, while the alternative hypothesis states your research prediction of an effect or relationship\n",
    "\n",
    "Null Hypothesis: On the average, the dosage sold under this brand is 50 mg (population mean dosage = 50 mg).\n",
    "\n",
    "Alternative Hypothesis: On the average, the dosage sold under this brand is not 50 mg (population mean dosage ≠ 50 mg)."
   ]
  },
  {
   "cell_type": "markdown",
   "id": "4cc3cd7a",
   "metadata": {},
   "source": [
    "Q7->\n",
    "\n",
    "1. Write null and alternate hypothesis.\n",
    "\n",
    "2. our null and alternate hypothesis.\n",
    "\n",
    "3. Perform a statistical test.\n",
    "\n",
    "4. Decide whether to reject or fail to reject your null hypothesis\n",
    "\n",
    "5. Present your findings."
   ]
  },
  {
   "cell_type": "markdown",
   "id": "70e58161",
   "metadata": {},
   "source": [
    "Q8->\n",
    "\n",
    "The p value is a number, calculated from a statistical test, that describes how likely you are to have found a particular set of observations if the null hypothesis were true. P values are used in hypothesis testing to help decide whether to reject the null hypothesis."
   ]
  },
  {
   "cell_type": "code",
   "execution_count": 5,
   "id": "c6313c15",
   "metadata": {},
   "outputs": [
    {
     "data": {
      "image/png": "[encoded data removed]",
      "text/plain": [
       "<Figure size 432x288 with 1 Axes>"
      ]
     },
     "metadata": {
      "needs_background": "light"
     },
     "output_type": "display_data"
    }
   ],
   "source": [
    "# Q9->\n",
    "import numpy as np\n",
    "import matplotlib.pyplot as plt\n",
    "from scipy.stats import t\n",
    "\n",
    "df = 10  # degrees of freedom\n",
    "x = np.linspace(t.ppf(0.001, df), t.ppf(0.999, df), 100)  # define the x-axis values\n",
    "\n",
    "plt.plot(x, t.pdf(x, df), 'r-', lw=2, label='t pdf')  # plot the t-distribution PDF\n",
    "plt.legend(loc='best', frameon=False)\n",
    "plt.xlabel('x')\n",
    "plt.ylabel('PDF')\n",
    "plt.title('Student\\'s t-distribution (df=10)')\n",
    "plt.show()\n"
   ]
  },
  {
   "cell_type": "code",
   "execution_count": 19,
   "id": "e3348648",
   "metadata": {},
   "outputs": [
    {
     "name": "stdout",
     "output_type": "stream",
     "text": [
      "Mean of sample 1 is  10.089986965884824\n",
      "Mean of sample 2 is  11.969929337650916\n",
      "t-statistics is  -6.23404727170258\n",
      "P_value is  2.6894508071444118e-09\n",
      "we accept Null hypothesis\n"
     ]
    }
   ],
   "source": [
    "# Q10->\n",
    "\n",
    "import numpy as np\n",
    "from scipy.stats import ttest_ind\n",
    "\n",
    "sample1 = np.random.normal(loc=10,scale=2,size=100)\n",
    "sample2 = np.random.normal(loc=12,scale=2,size=100)\n",
    "\n",
    "t_stats, p_value = ttest_ind(sample1,sample2)\n",
    "\n",
    "print('Mean of sample 1 is ',np.mean(sample1))\n",
    "print('Mean of sample 2 is ',np.mean(sample2))\n",
    "print('t-statistics is ',t_stats)\n",
    "print('P_value is ',p_value)\n",
    "\n",
    "if p_value < 0.05:\n",
    "    print('we accept Null hypothesis')\n",
    "else:\n",
    "    print('we reject the null hypothesis')"
   ]
  },
  {
   "cell_type": "markdown",
   "id": "60578b92",
   "metadata": {},
   "source": [
    "Q11->\n",
    "\n",
    "The t-distribution is commonly used in hypothesis testing, particularly when comparing two samples to test whether their means are significantly different from each other. The t-distribution provides a way to calculate the probability that the difference between the means of two samples is due to chance alone. The t-distribution is also used to calculate confidence intervals for the mean of a population when the sample size is small or the population standard deviation is unknown.\n",
    "\n",
    "it is used to estimate the mean of a normally distributed population in cases where the sample size is small (i.e., less than 30) or where the population standard deviation is unknown\n",
    "\n",
    "The t-distribution is a bell-shaped distribution, similar to the normal distribution, but with heavier tails. The shape of the distribution depends on the sample size and the degrees of freedom. "
   ]
  },
  {
   "cell_type": "markdown",
   "id": "ab21c273",
   "metadata": {},
   "source": [
    "\n",
    "Q12->\n",
    "\n",
    "The t-statistic is a measure of the difference between the means of two samples, expressed in units of the standard error. It is calculated as the difference between the means of the two samples divided by the standard error of the difference between the means. The formula for calculating the t-statistic is:\n",
    "\n",
    "t = (x1 - x2) / (s / sqrt(n))\n",
    "\n",
    "\n",
    "Where:\n",
    "\n",
    "x1 and x2 are the means of the two samples\n",
    "\n",
    "s is the standard deviation of the difference between the two samples\n",
    "\n",
    "n is the sample size\n"
   ]
  },
  {
   "cell_type": "markdown",
   "id": "5f632af4",
   "metadata": {},
   "source": [
    "\n",
    "Q13->\n",
    "\n",
    "To estimate the population mean revenue with a 95% confidence interval, we can use the following formula:\n",
    "\n",
    "Confidence interval = sample mean ± (t-value x standard error)\n",
    "\n",
    "we have a sample size of 50, a sample mean of  500, and a standard deviation of 50. The degrees of freedom for a sample size of 50 are 49 (n-1). \n",
    "\n",
    "for t-value in t_table value for 49 in 0.05 is 2.01 \n",
    "\n",
    "CI = 500 ± (2.01 x (50 / sqrt(50)))\n",
    "\n",
    "CI = 500 ± 14.14\n",
    "\n",
    "Therefore, the 95% confidence interval for the population mean revenue is 485.86 to 514.14."
   ]
  },
  {
   "cell_type": "markdown",
   "id": "48f500b1",
   "metadata": {},
   "source": [
    "Q14->\n",
    "\n",
    "Null Hypothesis = mean = 10\n",
    "\n",
    "Alternate Hypothesis = mean = 8\n",
    "\n",
    "pop mean =10, sample mean = 8 sample std_deviation = 3 sample size = 100\n",
    "\n",
    "tstats = 1.98 as dof is 99 and CI = 95\n",
    "\n",
    "t_value = (sample_mean - pop mean)/std-sqrt(size)\n",
    "\n",
    "t_value = 8-2/3-sqrt(100)\n",
    "\n",
    "t_value = 0.2857\n",
    "\n",
    "0.2857 > 1.968\n",
    "\n",
    "So, we reject the null hypothesis\n"
   ]
  },
  {
   "cell_type": "markdown",
   "id": "6639ca21",
   "metadata": {},
   "source": [
    "Q15->\n",
    "\n",
    "Null Hypothesis = mean = 5\n",
    "\n",
    "Alternate Hypothesis = mean is not equal to 5\n",
    "\n",
    "x_ = 4.8  pop mean= 5 pop std = 0.5 sample_size = 25 dof = 24 alpha = 0.01\n",
    "\n",
    "As CI = 99% and dof = 24 and using t table we get critical t-value as 2.492\n",
    "\n",
    "Now\n",
    "\n",
    "t = (sample mean - hypothesized mean) / (standard error of the mean)\n",
    "\n",
    "the standard error of the mean is the standard deviation of the sample divided by the square root of the sample size.\n",
    "\n",
    "standard error of the mean = 0.5 / sqrt(25) = 0.1\n",
    "\n",
    "t = (4.8 - 5) / 0.1 = -2\n",
    "\n",
    "Since the calculated t-value (-2) is greater than the critical t-value (-2.492), we fail to reject the null hypothesis "
   ]
  },
  {
   "cell_type": "markdown",
   "id": "3310e41e",
   "metadata": {},
   "source": [
    "Q16->\n",
    "\n",
    "To test the hypothesis that the population means for the two groups are equal, we can use a two-sample t-test for independent samples. The null hypothesis is that the population means for the two groups are equal, and the alternative hypothesis is that they are not equal.\n",
    "\n",
    "The test statistic for the two-sample t-test is calculated as:\n",
    "\n",
    "t = (x̄1 - x̄2) / sqrt(s1^2/n1 + s2^2/n2)\n",
    "\n",
    "where x̄1 and x̄2 are the sample means, s1 and s2 are the sample standard deviations, and n1 and n2 are the sample sizes.\n",
    "\n",
    "In this case, we have:\n",
    "\n",
    "Group 1: n1 = 30, x̄1 = 80, s1 = 10\n",
    "Group 2: n2 = 40, x̄2 = 75, s2 = 8\n",
    "Substituting these values into the formula, we get:\n",
    "\n",
    "t = (80 - 75) / sqrt((10^2/30) + (8^2/40))\n",
    "t = 2.62\n",
    "\n",
    "The degrees of freedom for this test are calculated as:\n",
    "\n",
    "df = (s1^2/n1 + s2^2/n2)^2 / ( (s1^2/n1)^2/(n1-1) + (s2^2/n2)^2/(n2-1) )\n",
    "\n",
    "Substituting the values, we get:\n",
    "\n",
    "df = (10^2/30 + 8^2/40)^2 / ( (10^2/30)^2/29 + (8^2/40)^2/39 )\n",
    "df = 66.89\n",
    "\n",
    "Using a t-table or a calculator, we can find the critical t-value for a two-tailed test with 66 degrees of freedom and a significance level of 0.01 to be approximately ±2.636.\n",
    "\n",
    "Since the calculated t-value (2.62) is less than the critical t-value (-2.636 or 2.636), we fail to reject the null hypothesis and conclude that there is not enough evidence to support the claim that the population means for the two groups are not equal.\n"
   ]
  },
  {
   "cell_type": "markdown",
   "id": "c75c8a19",
   "metadata": {},
   "source": [
    "Q17->\n",
    "\n",
    "CI = sample mean ± z*(standard error)\n",
    "\n",
    "where z is the z-score corresponding to the desired confidence level and standard error = standard deviation / sqrt(sample size)\n",
    "\n",
    "For a 99% confidence interval, the z-score is 2.576 (z table).\n",
    "\n",
    "Standard error = 1.5 / sqrt(50) = 0.2121\n",
    "\n",
    "Confidence interval = 4 ± 2.576*(0.2121) = (3.46, 4.54)\n",
    "\n",
    "Therefore, we can be 99% confident that the population mean number of ads watched by viewers during a TV program is between 3.46 and 4.54.\n"
   ]
  },
  {
   "cell_type": "code",
   "execution_count": null,
   "id": "bad1d4e1",
   "metadata": {},
   "outputs": [],
   "source": []
  }
 ],
 "metadata": {
  "kernelspec": {
   "display_name": "Python 3",
   "language": "python",
   "name": "python3"
  },
  "language_info": {
   "codemirror_mode": {
    "name": "ipython",
    "version": 3
   },
   "file_extension": ".py",
   "mimetype": "text/x-python",
   "name": "python",
   "nbconvert_exporter": "python",
   "pygments_lexer": "ipython3",
   "version": "3.8.8"
  }
 },
 "nbformat": 4,
 "nbformat_minor": 5
}
