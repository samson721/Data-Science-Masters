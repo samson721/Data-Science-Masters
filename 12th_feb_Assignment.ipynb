{
 "cells": [
  {
   "cell_type": "code",
   "execution_count": 1,
   "id": "129e9768",
   "metadata": {},
   "outputs": [],
   "source": [
    "# # Q1->\n",
    "# An exception is an event, which occurs during the execution of a program \n",
    "# that disrupts the normal flow of the program's instructions.\n",
    "\n",
    "# Both exceptions and errors are the subclasses of a throwable class.\n",
    "# The error implies a problem that mostly arises due to the shortage \n",
    "# of system resources. On the other hand, the exceptions occur during runtime and compile time."
   ]
  },
  {
   "cell_type": "code",
   "execution_count": 2,
   "id": "758b72d7",
   "metadata": {},
   "outputs": [
    {
     "name": "stdout",
     "output_type": "stream",
     "text": [
      "Enter any number as denominator 0\n"
     ]
    },
    {
     "ename": "ZeroDivisionError",
     "evalue": "division by zero",
     "output_type": "error",
     "traceback": [
      "\u001b[1;31m---------------------------------------------------------------------------\u001b[0m",
      "\u001b[1;31mZeroDivisionError\u001b[0m                         Traceback (most recent call last)",
      "\u001b[1;32m<ipython-input-2-7293fc962d06>\u001b[0m in \u001b[0;36m<module>\u001b[1;34m\u001b[0m\n\u001b[0;32m      4\u001b[0m \u001b[1;33m\u001b[0m\u001b[0m\n\u001b[0;32m      5\u001b[0m \u001b[0mn\u001b[0m \u001b[1;33m=\u001b[0m \u001b[0mint\u001b[0m\u001b[1;33m(\u001b[0m\u001b[0minput\u001b[0m\u001b[1;33m(\u001b[0m\u001b[1;34m\"Enter any number as denominator \"\u001b[0m\u001b[1;33m)\u001b[0m\u001b[1;33m)\u001b[0m\u001b[1;33m\u001b[0m\u001b[1;33m\u001b[0m\u001b[0m\n\u001b[1;32m----> 6\u001b[1;33m \u001b[0mx\u001b[0m \u001b[1;33m=\u001b[0m \u001b[1;36m1126\u001b[0m\u001b[1;33m/\u001b[0m\u001b[0mn\u001b[0m\u001b[1;33m\u001b[0m\u001b[1;33m\u001b[0m\u001b[0m\n\u001b[0m\u001b[0;32m      7\u001b[0m \u001b[1;33m\u001b[0m\u001b[0m\n\u001b[0;32m      8\u001b[0m \u001b[0mprint\u001b[0m\u001b[1;33m(\u001b[0m\u001b[1;34m\"the code has ended\"\u001b[0m\u001b[1;33m)\u001b[0m\u001b[1;33m\u001b[0m\u001b[1;33m\u001b[0m\u001b[0m\n",
      "\u001b[1;31mZeroDivisionError\u001b[0m: division by zero"
     ]
    }
   ],
   "source": [
    "# Q2->\n",
    "# when an exception is not handled then its throws error at the line in which the error exists\n",
    "# so all the lines of code after the error line will not be able to execute.\n",
    "\n",
    "n = int(input(\"Enter any number as denominator \"))\n",
    "x = 1126/n\n",
    "\n",
    "print(\"the code has ended\")"
   ]
  },
  {
   "cell_type": "code",
   "execution_count": 3,
   "id": "0c6f50e0",
   "metadata": {},
   "outputs": [
    {
     "name": "stdout",
     "output_type": "stream",
     "text": [
      "Enter any number as denominator 0\n",
      "the no. you entered is not valid division by zero\n",
      "the code has ended\n"
     ]
    }
   ],
   "source": [
    "n = int(input(\"Enter any number as denominator \"))\n",
    "try:\n",
    "    x = 1126/n\n",
    "except ZeroDivisionError as e:\n",
    "    print(\"the no. you entered is not valid\",e)\n",
    "    \n",
    "print(\"the code has ended\")"
   ]
  },
  {
   "cell_type": "code",
   "execution_count": 4,
   "id": "c460be2d",
   "metadata": {},
   "outputs": [],
   "source": [
    "# Q3->\n",
    "# The try and except block in Python is used to catch and handle exceptions.\n",
    "# Python executes code following the try statement as a “normal” part of the program\n",
    "# try:\n",
    "#     x = 1126/n\n",
    "# except ZeroDivisionError as e:\n",
    "#     print(\"the no. you entered is not valid\",e)\n"
   ]
  },
  {
   "cell_type": "code",
   "execution_count": 6,
   "id": "df26d77a",
   "metadata": {},
   "outputs": [
    {
     "name": "stdout",
     "output_type": "stream",
     "text": [
      "Something went wrong\n"
     ]
    }
   ],
   "source": [
    "# Q4->\n",
    "\n",
    "# Try and else\n",
    "\n",
    "try:\n",
    "  print(x)\n",
    "except:\n",
    "  print(\"Something went wrong\")"
   ]
  },
  {
   "cell_type": "code",
   "execution_count": 7,
   "id": "e93a320e",
   "metadata": {},
   "outputs": [
    {
     "name": "stdout",
     "output_type": "stream",
     "text": [
      "Samson\n",
      "Nothing is wrong with is code\n"
     ]
    }
   ],
   "source": [
    "try:\n",
    "  print(\"Samson\")\n",
    "except:\n",
    "  print(\"Something went wrong\")\n",
    "else:\n",
    "  print(\"Nothing is wrong with is code\")"
   ]
  },
  {
   "cell_type": "code",
   "execution_count": 8,
   "id": "fdd25dd0",
   "metadata": {},
   "outputs": [
    {
     "name": "stdout",
     "output_type": "stream",
     "text": [
      "Something went wrong\n",
      "This is finally block\n"
     ]
    }
   ],
   "source": [
    "#finally\n",
    "try:\n",
    "  print(x)\n",
    "except:\n",
    "  print(\"Something went wrong\")\n",
    "finally:\n",
    "  print(\"This is finally block\")"
   ]
  },
  {
   "cell_type": "code",
   "execution_count": 10,
   "id": "fdee3c36",
   "metadata": {},
   "outputs": [
    {
     "name": "stdout",
     "output_type": "stream",
     "text": [
      "Enter your age -45\n"
     ]
    },
    {
     "ename": "Exception",
     "evalue": "Sorry, no numbers below zero",
     "output_type": "error",
     "traceback": [
      "\u001b[1;31m---------------------------------------------------------------------------\u001b[0m",
      "\u001b[1;31mException\u001b[0m                                 Traceback (most recent call last)",
      "\u001b[1;32m<ipython-input-10-a6352bf8ce26>\u001b[0m in \u001b[0;36m<module>\u001b[1;34m\u001b[0m\n\u001b[0;32m      2\u001b[0m \u001b[1;33m\u001b[0m\u001b[0m\n\u001b[0;32m      3\u001b[0m \u001b[1;32mif\u001b[0m \u001b[0mx\u001b[0m \u001b[1;33m<\u001b[0m \u001b[1;36m0\u001b[0m\u001b[1;33m:\u001b[0m\u001b[1;33m\u001b[0m\u001b[1;33m\u001b[0m\u001b[0m\n\u001b[1;32m----> 4\u001b[1;33m   \u001b[1;32mraise\u001b[0m \u001b[0mException\u001b[0m\u001b[1;33m(\u001b[0m\u001b[1;34m\"Sorry, no numbers below zero\"\u001b[0m\u001b[1;33m)\u001b[0m\u001b[1;33m\u001b[0m\u001b[1;33m\u001b[0m\u001b[0m\n\u001b[0m\u001b[0;32m      5\u001b[0m \u001b[1;32melse\u001b[0m\u001b[1;33m:\u001b[0m\u001b[1;33m\u001b[0m\u001b[1;33m\u001b[0m\u001b[0m\n\u001b[0;32m      6\u001b[0m     \u001b[0mprint\u001b[0m\u001b[1;33m(\u001b[0m\u001b[1;34m\"Your Age : \"\u001b[0m\u001b[1;33m,\u001b[0m\u001b[0mx\u001b[0m\u001b[1;33m)\u001b[0m\u001b[1;33m\u001b[0m\u001b[1;33m\u001b[0m\u001b[0m\n",
      "\u001b[1;31mException\u001b[0m: Sorry, no numbers below zero"
     ]
    }
   ],
   "source": [
    "x = int(input(\"Enter your age \"))\n",
    "\n",
    "if x < 0:\n",
    "  raise Exception(\"Sorry, no numbers below zero\")\n",
    "else:\n",
    "    print(\"Your Age : \",x)"
   ]
  },
  {
   "cell_type": "code",
   "execution_count": 11,
   "id": "5952b26e",
   "metadata": {},
   "outputs": [],
   "source": [
    "# Q5->\n",
    "# Like standard exception classes, custom exceptions are also classes.\n",
    "# Hence, you can add functionality to the custom exception classes like:\n",
    "# Adding attributes and properties. Adding methods\n",
    "\n"
   ]
  },
  {
   "cell_type": "code",
   "execution_count": 12,
   "id": "6f71a05a",
   "metadata": {},
   "outputs": [
    {
     "name": "stdout",
     "output_type": "stream",
     "text": [
      "Enter a number: 2\n",
      "Exception occurred: Invalid Age\n"
     ]
    }
   ],
   "source": [
    "# Q6->\n",
    "# define Python user-defined exceptions\n",
    "class InvalidAgeException(Exception):\n",
    "    pass\n",
    "\n",
    "# you need to guess this number\n",
    "number = 18\n",
    "\n",
    "try:\n",
    "    input_num = int(input(\"Enter a number: \"))\n",
    "    if input_num < number:\n",
    "        raise InvalidAgeException\n",
    "    else:\n",
    "        print(\"Eligible to Vote\")\n",
    "        \n",
    "except InvalidAgeException:\n",
    "    print(\"Exception occurred: Invalid Age\")"
   ]
  },
  {
   "cell_type": "code",
   "execution_count": null,
   "id": "bad1f5ae",
   "metadata": {},
   "outputs": [],
   "source": []
  }
 ],
 "metadata": {
  "kernelspec": {
   "display_name": "Python 3",
   "language": "python",
   "name": "python3"
  },
  "language_info": {
   "codemirror_mode": {
    "name": "ipython",
    "version": 3
   },
   "file_extension": ".py",
   "mimetype": "text/x-python",
   "name": "python",
   "nbconvert_exporter": "python",
   "pygments_lexer": "ipython3",
   "version": "3.8.8"
  }
 },
 "nbformat": 4,
 "nbformat_minor": 5
}
